{
 "cells": [
  {
   "cell_type": "markdown",
   "id": "29941efe",
   "metadata": {},
   "source": [
    "# Coding Etiquette & Excel Reporting (2)"
   ]
  },
  {
   "cell_type": "markdown",
   "id": "a1aa2e6a",
   "metadata": {},
   "source": [
    "1. Import Libraries and Data"
   ]
  },
  {
   "cell_type": "markdown",
   "id": "e29ff178",
   "metadata": {},
   "source": [
    "2. Check Dataframe"
   ]
  },
  {
   "cell_type": "markdown",
   "id": "6083e992",
   "metadata": {},
   "source": [
    "3. Create Variables for Profiling"
   ]
  },
  {
   "cell_type": "code",
   "execution_count": 1,
   "id": "17c5d4c3",
   "metadata": {},
   "outputs": [],
   "source": [
    "# Import Libraries\n",
    "import pandas as pd\n",
    "import numpy as np\n",
    "import os\n",
    "import matplotlib.pyplot as plt\n",
    "import seaborn as sns\n",
    "import scipy"
   ]
  },
  {
   "cell_type": "code",
   "execution_count": 2,
   "id": "ae70a009",
   "metadata": {},
   "outputs": [],
   "source": [
    "path = r'C:\\Users\\rpa21\\Instacart Basket Analysis'"
   ]
  },
  {
   "cell_type": "code",
   "execution_count": 3,
   "id": "699d9f8f",
   "metadata": {},
   "outputs": [],
   "source": [
    "df_cust_grp_merge2 = pd.read_pickle(os.path.join(path, '02 Data', 'Prepared Data', 'df_cust_grp_merge2.pkl'))"
   ]
  },
  {
   "cell_type": "markdown",
   "id": "0225f9cd",
   "metadata": {},
   "source": [
    "Check Dataframe"
   ]
  },
  {
   "cell_type": "code",
   "execution_count": null,
   "id": "26cf79a9",
   "metadata": {},
   "outputs": [],
   "source": [
    "df_cust_grp_merge2.head()"
   ]
  },
  {
   "cell_type": "code",
   "execution_count": 6,
   "id": "9a96f363",
   "metadata": {},
   "outputs": [
    {
     "data": {
      "text/plain": [
       "(24414877, 34)"
      ]
     },
     "execution_count": 6,
     "metadata": {},
     "output_type": "execute_result"
    }
   ],
   "source": [
    "df_cust_grp_merge2.shape"
   ]
  },
  {
   "cell_type": "code",
   "execution_count": 8,
   "id": "2c15cdd7",
   "metadata": {},
   "outputs": [
    {
     "data": {
      "text/plain": [
       "region\n",
       "South        8129086\n",
       "West         6258764\n",
       "Midwest      5711756\n",
       "Northeast    4315271\n",
       "Name: count, dtype: int64"
      ]
     },
     "execution_count": 8,
     "metadata": {},
     "output_type": "execute_result"
    }
   ],
   "source": [
    "df_cust_grp_merge2['region'].value_counts(dropna = False)"
   ]
  },
  {
   "cell_type": "markdown",
   "id": "b0955cc1",
   "metadata": {},
   "source": [
    "# Creating Variables for Profiling"
   ]
  },
  {
   "cell_type": "markdown",
   "id": "4834bb69",
   "metadata": {},
   "source": [
    "Creating age range variables: Young adult ages under 30, adult ages 30-45, middle ages adult ages over 45-65, mature adult ages over 65."
   ]
  },
  {
   "cell_type": "code",
   "execution_count": 9,
   "id": "983dee5e",
   "metadata": {},
   "outputs": [],
   "source": [
    "df_cust_grp_merge2.loc[(df_cust_grp_merge2['Age'] < 30), 'age_range_loc'] = 'young adult'"
   ]
  },
  {
   "cell_type": "code",
   "execution_count": 10,
   "id": "ffe7b6b4",
   "metadata": {},
   "outputs": [],
   "source": [
    "df_cust_grp_merge2.loc[(df_cust_grp_merge2['Age'] >= 30) & (df_cust_grp_merge2['Age'] <= 45), 'age_range_loc'] = 'adult' "
   ]
  },
  {
   "cell_type": "code",
   "execution_count": 11,
   "id": "199a634a",
   "metadata": {},
   "outputs": [],
   "source": [
    "df_cust_grp_merge2.loc[(df_cust_grp_merge2['Age'] > 45) & (df_cust_grp_merge2['Age'] <= 65 ), 'age_range_loc'] = 'middle aged adult' "
   ]
  },
  {
   "cell_type": "code",
   "execution_count": 12,
   "id": "33d1b148",
   "metadata": {},
   "outputs": [],
   "source": [
    "df_cust_grp_merge2.loc[(df_cust_grp_merge2['Age'] > 65), 'age_range_loc'] = 'mature adult'"
   ]
  },
  {
   "cell_type": "code",
   "execution_count": 13,
   "id": "295d9bbd",
   "metadata": {},
   "outputs": [
    {
     "data": {
      "text/plain": [
       "age_range_loc\n",
       "middle aged adult    7616010\n",
       "adult                6116389\n",
       "mature adult         6092218\n",
       "young adult          4590260\n",
       "Name: count, dtype: int64"
      ]
     },
     "execution_count": 13,
     "metadata": {},
     "output_type": "execute_result"
    }
   ],
   "source": [
    "df_cust_grp_merge2['age_range_loc'].value_counts(dropna = False)"
   ]
  },
  {
   "cell_type": "markdown",
   "id": "14e12704",
   "metadata": {},
   "source": [
    "Creating income range variables"
   ]
  },
  {
   "cell_type": "code",
   "execution_count": 14,
   "id": "7c48e0d1",
   "metadata": {},
   "outputs": [],
   "source": [
    "df_cust_grp_merge2.loc[(df_cust_grp_merge2['income'] < 50000), 'income_range'] = 'low income'"
   ]
  },
  {
   "cell_type": "code",
   "execution_count": 15,
   "id": "7b6c7d41",
   "metadata": {},
   "outputs": [],
   "source": [
    "df_cust_grp_merge2.loc[(df_cust_grp_merge2['income'] >= 50000) & (df_cust_grp_merge2['income'] <= 100000), 'income_range'] = 'middle income' "
   ]
  },
  {
   "cell_type": "code",
   "execution_count": 16,
   "id": "6ea80277",
   "metadata": {},
   "outputs": [],
   "source": [
    "df_cust_grp_merge2.loc[(df_cust_grp_merge2['income'] > 100000) & (df_cust_grp_merge2['income'] <= 150000), 'income_range'] = 'middle upper income'"
   ]
  },
  {
   "cell_type": "code",
   "execution_count": 17,
   "id": "1e4e19a4",
   "metadata": {},
   "outputs": [],
   "source": [
    "df_cust_grp_merge2.loc[(df_cust_grp_merge2['income'] > 150000), 'income_range'] = 'upper income'"
   ]
  },
  {
   "cell_type": "code",
   "execution_count": 18,
   "id": "f54ad888",
   "metadata": {},
   "outputs": [
    {
     "data": {
      "text/plain": [
       "income_range\n",
       "middle income          10595251\n",
       "middle upper income     8139222\n",
       "upper income            3086487\n",
       "low income              2593917\n",
       "Name: count, dtype: int64"
      ]
     },
     "execution_count": 18,
     "metadata": {},
     "output_type": "execute_result"
    }
   ],
   "source": [
    "df_cust_grp_merge2['income_range'].value_counts(dropna = False)"
   ]
  },
  {
   "cell_type": "markdown",
   "id": "716fd165",
   "metadata": {},
   "source": [
    "Create a dependants variable"
   ]
  },
  {
   "cell_type": "code",
   "execution_count": 19,
   "id": "d914a0b6",
   "metadata": {},
   "outputs": [],
   "source": [
    "df_cust_grp_merge2.loc[(df_cust_grp_merge2['number_of_dependants'] == 0), 'dependants_range'] = 'no_dependants'"
   ]
  },
  {
   "cell_type": "code",
   "execution_count": 20,
   "id": "fd02c8fa",
   "metadata": {},
   "outputs": [],
   "source": [
    "df_cust_grp_merge2.loc[(df_cust_grp_merge2['number_of_dependants'] >= 1), 'dependants_range'] = 'yes_dependants'"
   ]
  },
  {
   "cell_type": "code",
   "execution_count": 21,
   "id": "e0f817aa",
   "metadata": {},
   "outputs": [
    {
     "data": {
      "text/plain": [
       "dependants_range\n",
       "yes_dependants    18309875\n",
       "no_dependants      6105002\n",
       "Name: count, dtype: int64"
      ]
     },
     "execution_count": 21,
     "metadata": {},
     "output_type": "execute_result"
    }
   ],
   "source": [
    "df_cust_grp_merge2['dependants_range'].value_counts(dropna = False)"
   ]
  },
  {
   "cell_type": "markdown",
   "id": "654588cd",
   "metadata": {},
   "source": [
    "Creating a Customer Porfile with Income and age"
   ]
  },
  {
   "cell_type": "code",
   "execution_count": 23,
   "id": "101e9253",
   "metadata": {},
   "outputs": [],
   "source": [
    "df_cust_grp_merge2.loc[(df_cust_grp_merge2['age_range_loc'] == 'young adult') & (df_cust_grp_merge2['income_range']=='low income'), 'cust_profile'] = 'young adult_low income'"
   ]
  },
  {
   "cell_type": "code",
   "execution_count": 24,
   "id": "f9bd0d24",
   "metadata": {},
   "outputs": [],
   "source": [
    "df_cust_grp_merge2.loc[(df_cust_grp_merge2['age_range_loc'] == 'young adult') & (df_cust_grp_merge2['income_range']=='middle income'), 'cust_profile'] = 'young adult_mid income'"
   ]
  },
  {
   "cell_type": "code",
   "execution_count": 25,
   "id": "1d9c3531",
   "metadata": {},
   "outputs": [],
   "source": [
    "df_cust_grp_merge2.loc[(df_cust_grp_merge2['age_range_loc'] == 'young adult') & (df_cust_grp_merge2['income_range']=='middle upper income'), 'cust_profile'] = 'young adult_mid upper income'"
   ]
  },
  {
   "cell_type": "code",
   "execution_count": 26,
   "id": "9c4454d3",
   "metadata": {},
   "outputs": [],
   "source": [
    "df_cust_grp_merge2.loc[(df_cust_grp_merge2['age_range_loc'] == 'young adult') & (df_cust_grp_merge2['income_range']=='upper income'), 'cust_profile'] = 'young adult_upper income'"
   ]
  },
  {
   "cell_type": "code",
   "execution_count": 28,
   "id": "5795fcb0",
   "metadata": {},
   "outputs": [],
   "source": [
    "df_cust_grp_merge2.loc[(df_cust_grp_merge2['age_range_loc'] == 'adult') & (df_cust_grp_merge2['income_range']=='low income'), 'cust_profile'] = 'adult_low income'"
   ]
  },
  {
   "cell_type": "code",
   "execution_count": 29,
   "id": "d06780f1",
   "metadata": {},
   "outputs": [],
   "source": [
    "df_cust_grp_merge2.loc[(df_cust_grp_merge2['age_range_loc'] == 'adult') & (df_cust_grp_merge2['income_range']=='middle income'), 'cust_profile'] = 'adult_mid income'"
   ]
  },
  {
   "cell_type": "code",
   "execution_count": 30,
   "id": "9bb02c82",
   "metadata": {},
   "outputs": [],
   "source": [
    "df_cust_grp_merge2.loc[(df_cust_grp_merge2['age_range_loc'] == 'adult') & (df_cust_grp_merge2['income_range']=='middle upper income'), 'cust_profile'] = 'adult_mid upper income'"
   ]
  },
  {
   "cell_type": "code",
   "execution_count": 31,
   "id": "d0ec1acb",
   "metadata": {},
   "outputs": [],
   "source": [
    "df_cust_grp_merge2.loc[(df_cust_grp_merge2['age_range_loc'] ==  'adult') & (df_cust_grp_merge2['income_range']=='upper income'), 'cust_profile'] = 'adult_upper income'"
   ]
  },
  {
   "cell_type": "code",
   "execution_count": 32,
   "id": "480a1a6f",
   "metadata": {},
   "outputs": [],
   "source": [
    "df_cust_grp_merge2.loc[(df_cust_grp_merge2['age_range_loc'] == 'middle aged adult') & (df_cust_grp_merge2['income_range']=='low income'), 'cust_profile'] = 'mid aged adult_low income'"
   ]
  },
  {
   "cell_type": "code",
   "execution_count": 33,
   "id": "cbef6cbd",
   "metadata": {},
   "outputs": [],
   "source": [
    "df_cust_grp_merge2.loc[(df_cust_grp_merge2['age_range_loc'] == 'middle aged adult') & (df_cust_grp_merge2['income_range']=='middle income'), 'cust_profile'] = 'mid aged adult_mid income'"
   ]
  },
  {
   "cell_type": "code",
   "execution_count": 34,
   "id": "a1ec3a5a",
   "metadata": {},
   "outputs": [],
   "source": [
    "df_cust_grp_merge2.loc[(df_cust_grp_merge2['age_range_loc'] == 'middle aged adult') & (df_cust_grp_merge2['income_range']=='middle upper income'), 'cust_profile'] = 'mid aged adult_mid upper income'"
   ]
  },
  {
   "cell_type": "code",
   "execution_count": 35,
   "id": "d436e429",
   "metadata": {},
   "outputs": [],
   "source": [
    "df_cust_grp_merge2.loc[(df_cust_grp_merge2['age_range_loc'] ==  'middle aged adult') & (df_cust_grp_merge2['income_range']=='upper income'), 'cust_profile'] = 'mid aged adult_upper income'"
   ]
  },
  {
   "cell_type": "code",
   "execution_count": 36,
   "id": "ed4edef6",
   "metadata": {},
   "outputs": [],
   "source": [
    "df_cust_grp_merge2.loc[(df_cust_grp_merge2['age_range_loc'] == 'mature adult') & (df_cust_grp_merge2['income_range']=='low income'), 'cust_profile'] = 'mature adult_low income'"
   ]
  },
  {
   "cell_type": "code",
   "execution_count": 37,
   "id": "817c660c",
   "metadata": {},
   "outputs": [],
   "source": [
    "df_cust_grp_merge2.loc[(df_cust_grp_merge2['age_range_loc'] == 'mature adult') & (df_cust_grp_merge2['income_range']=='middle income'), 'cust_profile'] = 'mature adult_mid income'"
   ]
  },
  {
   "cell_type": "code",
   "execution_count": 38,
   "id": "372bcab3",
   "metadata": {},
   "outputs": [],
   "source": [
    "df_cust_grp_merge2.loc[(df_cust_grp_merge2['age_range_loc'] == 'mature adult') & (df_cust_grp_merge2['income_range']=='middle upper income'), 'cust_profile'] = 'mature adult_mid upper income'"
   ]
  },
  {
   "cell_type": "code",
   "execution_count": 39,
   "id": "149133a5",
   "metadata": {},
   "outputs": [],
   "source": [
    "df_cust_grp_merge2.loc[(df_cust_grp_merge2['age_range_loc'] ==  'mature adult') & (df_cust_grp_merge2['income_range']=='upper income'), 'cust_profile'] = 'mature adult_upper income'"
   ]
  },
  {
   "cell_type": "code",
   "execution_count": 40,
   "id": "baef8c87",
   "metadata": {},
   "outputs": [
    {
     "data": {
      "text/plain": [
       "cust_profile\n",
       "adult_mid income                   3851037\n",
       "mid aged adult_mid upper income    3845648\n",
       "young adult_mid income             3749436\n",
       "mature adult_mid upper income      3126958\n",
       "mid aged adult_mid income          1671228\n",
       "mid aged adult_upper income        1473227\n",
       "mature adult_mid income            1323550\n",
       "mature adult_upper income          1147325\n",
       "adult_mid upper income             1064747\n",
       "adult_low income                    780492\n",
       "young adult_low income              693133\n",
       "mid aged adult_low income           625907\n",
       "mature adult_low income             494385\n",
       "adult_upper income                  420113\n",
       "young adult_mid upper income        101869\n",
       "young adult_upper income             45822\n",
       "Name: count, dtype: int64"
      ]
     },
     "execution_count": 40,
     "metadata": {},
     "output_type": "execute_result"
    }
   ],
   "source": [
    "df_cust_grp_merge2['cust_profile'].value_counts(dropna = False)"
   ]
  },
  {
   "cell_type": "code",
   "execution_count": 42,
   "id": "322c69f9",
   "metadata": {
    "scrolled": true
   },
   "outputs": [
    {
     "data": {
      "text/html": [
       "<div>\n",
       "<style scoped>\n",
       "    .dataframe tbody tr th:only-of-type {\n",
       "        vertical-align: middle;\n",
       "    }\n",
       "\n",
       "    .dataframe tbody tr th {\n",
       "        vertical-align: top;\n",
       "    }\n",
       "\n",
       "    .dataframe thead tr th {\n",
       "        text-align: left;\n",
       "    }\n",
       "\n",
       "    .dataframe thead tr:last-of-type th {\n",
       "        text-align: right;\n",
       "    }\n",
       "</style>\n",
       "<table border=\"1\" class=\"dataframe\">\n",
       "  <thead>\n",
       "    <tr>\n",
       "      <th></th>\n",
       "      <th>order_number</th>\n",
       "    </tr>\n",
       "    <tr>\n",
       "      <th></th>\n",
       "      <th>mean</th>\n",
       "    </tr>\n",
       "    <tr>\n",
       "      <th>cust_profile</th>\n",
       "      <th></th>\n",
       "    </tr>\n",
       "  </thead>\n",
       "  <tbody>\n",
       "    <tr>\n",
       "      <th>adult_low income</th>\n",
       "      <td>20.909930</td>\n",
       "    </tr>\n",
       "    <tr>\n",
       "      <th>adult_mid income</th>\n",
       "      <td>22.184326</td>\n",
       "    </tr>\n",
       "    <tr>\n",
       "      <th>adult_mid upper income</th>\n",
       "      <td>22.043515</td>\n",
       "    </tr>\n",
       "    <tr>\n",
       "      <th>adult_upper income</th>\n",
       "      <td>21.888037</td>\n",
       "    </tr>\n",
       "    <tr>\n",
       "      <th>mature adult_low income</th>\n",
       "      <td>21.424459</td>\n",
       "    </tr>\n",
       "    <tr>\n",
       "      <th>mature adult_mid income</th>\n",
       "      <td>21.999651</td>\n",
       "    </tr>\n",
       "    <tr>\n",
       "      <th>mature adult_mid upper income</th>\n",
       "      <td>21.949329</td>\n",
       "    </tr>\n",
       "    <tr>\n",
       "      <th>mature adult_upper income</th>\n",
       "      <td>21.885552</td>\n",
       "    </tr>\n",
       "    <tr>\n",
       "      <th>mid aged adult_low income</th>\n",
       "      <td>21.406468</td>\n",
       "    </tr>\n",
       "    <tr>\n",
       "      <th>mid aged adult_mid income</th>\n",
       "      <td>21.963351</td>\n",
       "    </tr>\n",
       "    <tr>\n",
       "      <th>mid aged adult_mid upper income</th>\n",
       "      <td>21.951615</td>\n",
       "    </tr>\n",
       "    <tr>\n",
       "      <th>mid aged adult_upper income</th>\n",
       "      <td>22.394622</td>\n",
       "    </tr>\n",
       "    <tr>\n",
       "      <th>young adult_low income</th>\n",
       "      <td>20.752238</td>\n",
       "    </tr>\n",
       "    <tr>\n",
       "      <th>young adult_mid income</th>\n",
       "      <td>22.085895</td>\n",
       "    </tr>\n",
       "    <tr>\n",
       "      <th>young adult_mid upper income</th>\n",
       "      <td>21.885363</td>\n",
       "    </tr>\n",
       "    <tr>\n",
       "      <th>young adult_upper income</th>\n",
       "      <td>23.856161</td>\n",
       "    </tr>\n",
       "  </tbody>\n",
       "</table>\n",
       "</div>"
      ],
      "text/plain": [
       "                                order_number\n",
       "                                        mean\n",
       "cust_profile                                \n",
       "adult_low income                   20.909930\n",
       "adult_mid income                   22.184326\n",
       "adult_mid upper income             22.043515\n",
       "adult_upper income                 21.888037\n",
       "mature adult_low income            21.424459\n",
       "mature adult_mid income            21.999651\n",
       "mature adult_mid upper income      21.949329\n",
       "mature adult_upper income          21.885552\n",
       "mid aged adult_low income          21.406468\n",
       "mid aged adult_mid income          21.963351\n",
       "mid aged adult_mid upper income    21.951615\n",
       "mid aged adult_upper income        22.394622\n",
       "young adult_low income             20.752238\n",
       "young adult_mid income             22.085895\n",
       "young adult_mid upper income       21.885363\n",
       "young adult_upper income           23.856161"
      ]
     },
     "execution_count": 42,
     "metadata": {},
     "output_type": "execute_result"
    }
   ],
   "source": [
    "#Mean order number of the customer profile\n",
    "df_cust_grp_merge2.groupby('cust_profile').agg({'order_number': ['mean']})"
   ]
  },
  {
   "cell_type": "code",
   "execution_count": 45,
   "id": "afe3cf66",
   "metadata": {},
   "outputs": [],
   "source": [
    "df_cust_grp_merge2.to_pickle(os.path.join(path, '02 Data', 'Prepared Data', 'df_cust_grp_merge3.pkl'))"
   ]
  }
 ],
 "metadata": {
  "kernelspec": {
   "display_name": "Python 3 (ipykernel)",
   "language": "python",
   "name": "python3"
  },
  "language_info": {
   "codemirror_mode": {
    "name": "ipython",
    "version": 3
   },
   "file_extension": ".py",
   "mimetype": "text/x-python",
   "name": "python",
   "nbconvert_exporter": "python",
   "pygments_lexer": "ipython3",
   "version": "3.11.5"
  }
 },
 "nbformat": 4,
 "nbformat_minor": 5
}
