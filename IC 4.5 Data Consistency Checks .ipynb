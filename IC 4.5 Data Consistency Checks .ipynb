{
 "cells": [
  {
   "cell_type": "markdown",
   "id": "46350964",
   "metadata": {},
   "source": [
    "# Data Consistency Checks"
   ]
  },
  {
   "cell_type": "markdown",
   "id": "a8d3439e",
   "metadata": {},
   "source": [
    "1. Import Libraries and Data"
   ]
  },
  {
   "cell_type": "markdown",
   "id": "97fb4963",
   "metadata": {},
   "source": [
    "2. Consistency Checks on Dataframes"
   ]
  },
  {
   "cell_type": "markdown",
   "id": "bde874ef",
   "metadata": {},
   "source": [
    "3. Export Data"
   ]
  },
  {
   "cell_type": "code",
   "execution_count": 2,
   "id": "4cc29c0d",
   "metadata": {},
   "outputs": [],
   "source": [
    "import pandas as pd\n",
    "import numpy as np\n",
    "import os"
   ]
  },
  {
   "cell_type": "code",
   "execution_count": 6,
   "id": "eab4fee4",
   "metadata": {},
   "outputs": [],
   "source": [
    "df_prods = pd.read_csv(r'C:\\Users\\rpa21\\Instacart Basket Analysis\\02 Data\\Original Data\\products.csv', index_col = False)"
   ]
  },
  {
   "cell_type": "code",
   "execution_count": 8,
   "id": "b3aececb",
   "metadata": {},
   "outputs": [],
   "source": [
    "path = r'C:\\Users\\rpa21\\Instacart Basket Analysis'"
   ]
  },
  {
   "cell_type": "code",
   "execution_count": 9,
   "id": "dc0e91d9",
   "metadata": {},
   "outputs": [],
   "source": [
    "df_prods = pd.read_csv(os.path.join(path, '02 Data', 'Original Data', 'products.csv'), index_col = False)"
   ]
  },
  {
   "cell_type": "code",
   "execution_count": 10,
   "id": "7e6b7f44",
   "metadata": {},
   "outputs": [],
   "source": [
    "df_ords = pd.read_csv(r'C:\\Users\\rpa21\\Instacart Basket Analysis\\02 Data\\Prepared Data\\orders_wrangled.csv', index_col = False)"
   ]
  },
  {
   "cell_type": "code",
   "execution_count": 11,
   "id": "d95bb372",
   "metadata": {},
   "outputs": [],
   "source": [
    "df_ords = pd.read_csv(os.path.join(path, '02 Data', 'Prepared Data', 'orders_wrangled.csv'), index_col = False)"
   ]
  },
  {
   "cell_type": "markdown",
   "id": "8773ed96",
   "metadata": {},
   "source": [
    "02. Creating New Dataframe "
   ]
  },
  {
   "cell_type": "code",
   "execution_count": 12,
   "id": "cf483811",
   "metadata": {},
   "outputs": [],
   "source": [
    "#Create a dataframe\n",
    "df_test = pd.DataFrame()"
   ]
  },
  {
   "cell_type": "code",
   "execution_count": 13,
   "id": "e3fa7feb",
   "metadata": {},
   "outputs": [],
   "source": [
    "# Create a mixed type column\n",
    "df_test['mix'] = ['a', 'b', 1, True]"
   ]
  },
  {
   "cell_type": "code",
   "execution_count": 14,
   "id": "218eeae5",
   "metadata": {},
   "outputs": [
    {
     "data": {
      "text/html": [
       "<div>\n",
       "<style scoped>\n",
       "    .dataframe tbody tr th:only-of-type {\n",
       "        vertical-align: middle;\n",
       "    }\n",
       "\n",
       "    .dataframe tbody tr th {\n",
       "        vertical-align: top;\n",
       "    }\n",
       "\n",
       "    .dataframe thead th {\n",
       "        text-align: right;\n",
       "    }\n",
       "</style>\n",
       "<table border=\"1\" class=\"dataframe\">\n",
       "  <thead>\n",
       "    <tr style=\"text-align: right;\">\n",
       "      <th></th>\n",
       "      <th>mix</th>\n",
       "    </tr>\n",
       "  </thead>\n",
       "  <tbody>\n",
       "    <tr>\n",
       "      <th>0</th>\n",
       "      <td>a</td>\n",
       "    </tr>\n",
       "    <tr>\n",
       "      <th>1</th>\n",
       "      <td>b</td>\n",
       "    </tr>\n",
       "    <tr>\n",
       "      <th>2</th>\n",
       "      <td>1</td>\n",
       "    </tr>\n",
       "    <tr>\n",
       "      <th>3</th>\n",
       "      <td>True</td>\n",
       "    </tr>\n",
       "  </tbody>\n",
       "</table>\n",
       "</div>"
      ],
      "text/plain": [
       "    mix\n",
       "0     a\n",
       "1     b\n",
       "2     1\n",
       "3  True"
      ]
     },
     "execution_count": 14,
     "metadata": {},
     "output_type": "execute_result"
    }
   ],
   "source": [
    "df_test.head()"
   ]
  },
  {
   "cell_type": "code",
   "execution_count": 16,
   "id": "4905207e",
   "metadata": {
    "scrolled": true
   },
   "outputs": [
    {
     "name": "stdout",
     "output_type": "stream",
     "text": [
      "mix\n"
     ]
    }
   ],
   "source": [
    "# Check for mix types\n",
    "for col in df_test.columns.tolist():\n",
    "  weird = (df_test[[col]].map(type) != df_test[[col]].iloc[0].apply(type)).any(axis = 1)\n",
    "  if len (df_test[weird]) > 0:\n",
    "    print (col)"
   ]
  },
  {
   "cell_type": "code",
   "execution_count": 17,
   "id": "62f35cd6",
   "metadata": {},
   "outputs": [],
   "source": [
    "df_test['mix'] = df_test['mix'].astype('str')"
   ]
  },
  {
   "cell_type": "markdown",
   "id": "e311b0eb",
   "metadata": {},
   "source": [
    "3. Finding Missing Values"
   ]
  },
  {
   "cell_type": "code",
   "execution_count": 18,
   "id": "2b78efc4",
   "metadata": {},
   "outputs": [
    {
     "data": {
      "text/plain": [
       "product_id        0\n",
       "product_name     16\n",
       "aisle_id          0\n",
       "department_id     0\n",
       "prices            0\n",
       "dtype: int64"
      ]
     },
     "execution_count": 18,
     "metadata": {},
     "output_type": "execute_result"
    }
   ],
   "source": [
    "df_prods.isnull().sum()"
   ]
  },
  {
   "cell_type": "code",
   "execution_count": 19,
   "id": "2ac002d3",
   "metadata": {},
   "outputs": [],
   "source": [
    "# A new dataframe with only values in the product_name column wiht missing values\n",
    "df_nan = df_prods[df_prods['product_name'].isnull() == True]"
   ]
  },
  {
   "cell_type": "code",
   "execution_count": null,
   "id": "2bc559e1",
   "metadata": {},
   "outputs": [],
   "source": [
    "df_nan"
   ]
  },
  {
   "cell_type": "code",
   "execution_count": 21,
   "id": "7cb2ce0e",
   "metadata": {},
   "outputs": [
    {
     "data": {
      "text/plain": [
       "(49693, 5)"
      ]
     },
     "execution_count": 21,
     "metadata": {},
     "output_type": "execute_result"
    }
   ],
   "source": [
    "# Look at the shape of the dataframe. \n",
    "df_prods.shape"
   ]
  },
  {
   "cell_type": "code",
   "execution_count": 22,
   "id": "cabc9fd5",
   "metadata": {},
   "outputs": [],
   "source": [
    "# Creating a new clean dataframe\n",
    "df_prods_clean = df_prods[df_prods['product_name'].isnull() == False]"
   ]
  },
  {
   "cell_type": "code",
   "execution_count": 23,
   "id": "64ebd5c3",
   "metadata": {},
   "outputs": [
    {
     "data": {
      "text/plain": [
       "(49677, 5)"
      ]
     },
     "execution_count": 23,
     "metadata": {},
     "output_type": "execute_result"
    }
   ],
   "source": [
    "# Checking if clean\n",
    "df_prods_clean.shape"
   ]
  },
  {
   "cell_type": "code",
   "execution_count": 24,
   "id": "b415912d",
   "metadata": {},
   "outputs": [],
   "source": [
    "# Finding full duplicates in the dataframe.\n",
    "df_dups = df_prods_clean[df_prods_clean.duplicated()]"
   ]
  },
  {
   "cell_type": "code",
   "execution_count": 25,
   "id": "ff32e744",
   "metadata": {},
   "outputs": [
    {
     "data": {
      "text/html": [
       "<div>\n",
       "<style scoped>\n",
       "    .dataframe tbody tr th:only-of-type {\n",
       "        vertical-align: middle;\n",
       "    }\n",
       "\n",
       "    .dataframe tbody tr th {\n",
       "        vertical-align: top;\n",
       "    }\n",
       "\n",
       "    .dataframe thead th {\n",
       "        text-align: right;\n",
       "    }\n",
       "</style>\n",
       "<table border=\"1\" class=\"dataframe\">\n",
       "  <thead>\n",
       "    <tr style=\"text-align: right;\">\n",
       "      <th></th>\n",
       "      <th>product_id</th>\n",
       "      <th>product_name</th>\n",
       "      <th>aisle_id</th>\n",
       "      <th>department_id</th>\n",
       "      <th>prices</th>\n",
       "    </tr>\n",
       "  </thead>\n",
       "  <tbody>\n",
       "    <tr>\n",
       "      <th>462</th>\n",
       "      <td>462</td>\n",
       "      <td>Fiber 4g Gummy Dietary Supplement</td>\n",
       "      <td>70</td>\n",
       "      <td>11</td>\n",
       "      <td>4.8</td>\n",
       "    </tr>\n",
       "    <tr>\n",
       "      <th>18459</th>\n",
       "      <td>18458</td>\n",
       "      <td>Ranger IPA</td>\n",
       "      <td>27</td>\n",
       "      <td>5</td>\n",
       "      <td>9.2</td>\n",
       "    </tr>\n",
       "    <tr>\n",
       "      <th>26810</th>\n",
       "      <td>26808</td>\n",
       "      <td>Black House Coffee Roasty Stout Beer</td>\n",
       "      <td>27</td>\n",
       "      <td>5</td>\n",
       "      <td>13.4</td>\n",
       "    </tr>\n",
       "    <tr>\n",
       "      <th>35309</th>\n",
       "      <td>35306</td>\n",
       "      <td>Gluten Free Organic Peanut Butter &amp; Chocolate ...</td>\n",
       "      <td>121</td>\n",
       "      <td>14</td>\n",
       "      <td>6.8</td>\n",
       "    </tr>\n",
       "    <tr>\n",
       "      <th>35495</th>\n",
       "      <td>35491</td>\n",
       "      <td>Adore Forever Body Wash</td>\n",
       "      <td>127</td>\n",
       "      <td>11</td>\n",
       "      <td>9.9</td>\n",
       "    </tr>\n",
       "  </tbody>\n",
       "</table>\n",
       "</div>"
      ],
      "text/plain": [
       "       product_id                                       product_name  \\\n",
       "462           462                  Fiber 4g Gummy Dietary Supplement   \n",
       "18459       18458                                         Ranger IPA   \n",
       "26810       26808               Black House Coffee Roasty Stout Beer   \n",
       "35309       35306  Gluten Free Organic Peanut Butter & Chocolate ...   \n",
       "35495       35491                            Adore Forever Body Wash   \n",
       "\n",
       "       aisle_id  department_id  prices  \n",
       "462          70             11     4.8  \n",
       "18459        27              5     9.2  \n",
       "26810        27              5    13.4  \n",
       "35309       121             14     6.8  \n",
       "35495       127             11     9.9  "
      ]
     },
     "execution_count": 25,
     "metadata": {},
     "output_type": "execute_result"
    }
   ],
   "source": [
    "# Looking at the duplicates\n",
    "df_dups"
   ]
  },
  {
   "cell_type": "code",
   "execution_count": 26,
   "id": "4c00ab65",
   "metadata": {},
   "outputs": [],
   "source": [
    "# Dropping duplicates\n",
    "df_prods_clean_no_dups = df_prods_clean.drop_duplicates()"
   ]
  },
  {
   "cell_type": "code",
   "execution_count": 27,
   "id": "f1390334",
   "metadata": {},
   "outputs": [
    {
     "data": {
      "text/plain": [
       "(49672, 5)"
      ]
     },
     "execution_count": 27,
     "metadata": {},
     "output_type": "execute_result"
    }
   ],
   "source": [
    "# Checking if duplicates are removed\n",
    "df_prods_clean_no_dups.shape"
   ]
  },
  {
   "cell_type": "code",
   "execution_count": 28,
   "id": "d8384ecc",
   "metadata": {},
   "outputs": [],
   "source": [
    "# Export Dataframe\n",
    "df_prods_clean_no_dups.to_csv(os.path.join(path, '02 Data','Prepared Data', 'products_checked.csv'))"
   ]
  },
  {
   "cell_type": "markdown",
   "id": "55268232",
   "metadata": {},
   "source": [
    "\n",
    "\n",
    "Task 4.5 on Ords Dataframe"
   ]
  },
  {
   "cell_type": "code",
   "execution_count": null,
   "id": "6f035d9a",
   "metadata": {},
   "outputs": [],
   "source": [
    "#2. Run the df.describe() function on your df_ords.  Does anything about the data look\n",
    "#off or should be investigated further.\n",
    "\n",
    "df_ords.describe()"
   ]
  },
  {
   "cell_type": "markdown",
   "id": "80eb7ab4",
   "metadata": {},
   "source": [
    "The Max value of the days_since_last_order looks lower than one would expect."
   ]
  },
  {
   "cell_type": "code",
   "execution_count": 31,
   "id": "a7fb7f51",
   "metadata": {},
   "outputs": [],
   "source": [
    "# 3. Check for mixed-type data in your df_ords dataframe. \n",
    "\n",
    "for col in df_ords.columns.tolist():\n",
    "  weird = (df_ords[[col]].map(type) != df_ords[[col]].iloc[0].apply(type)).any(axis = 1)\n",
    "  if len (df_ords[weird]) > 0:\n",
    "    print (col)"
   ]
  },
  {
   "cell_type": "markdown",
   "id": "e058e108",
   "metadata": {},
   "source": [
    "The columns do not have mixed data"
   ]
  },
  {
   "cell_type": "code",
   "execution_count": 32,
   "id": "e4be0746",
   "metadata": {},
   "outputs": [
    {
     "data": {
      "text/plain": [
       "Unnamed: 0                    0\n",
       "order_id                      0\n",
       "user_id                       0\n",
       "order_number                  0\n",
       "orders_day_of_week            0\n",
       "order_hour_of_day             0\n",
       "days_since_last_order    206209\n",
       "dtype: int64"
      ]
     },
     "execution_count": 32,
     "metadata": {},
     "output_type": "execute_result"
    }
   ],
   "source": [
    "# 5. Run a check for missing values in your df_ords dataframe.\n",
    "\n",
    "df_ords.isnull().sum()"
   ]
  },
  {
   "cell_type": "markdown",
   "id": "f6d0436a",
   "metadata": {},
   "source": [
    "There are 206,209 values missing in the days_since_last_order column. \n",
    "This could be the result of data corruption or the values were never entered."
   ]
  },
  {
   "cell_type": "code",
   "execution_count": 33,
   "id": "26584321",
   "metadata": {},
   "outputs": [],
   "source": [
    "# 6. Address the missing values using an appropriate method."
   ]
  },
  {
   "cell_type": "markdown",
   "id": "4af6ee06",
   "metadata": {},
   "source": [
    "With many observations missing, I feel leaving this data in the dataframe would be the best \n",
    "course of action. One possiblity is to create a new column but it is such a large amount \n",
    "of the data, it may affect analysis. "
   ]
  },
  {
   "cell_type": "code",
   "execution_count": 34,
   "id": "e062d005",
   "metadata": {},
   "outputs": [],
   "source": [
    "# 7. Run a check for duplicate values in your df_ords data.\n",
    "\n",
    "df_dups = df_ords[df_ords.duplicated()]"
   ]
  },
  {
   "cell_type": "code",
   "execution_count": 36,
   "id": "bcbda7fe",
   "metadata": {},
   "outputs": [
    {
     "data": {
      "text/html": [
       "<div>\n",
       "<style scoped>\n",
       "    .dataframe tbody tr th:only-of-type {\n",
       "        vertical-align: middle;\n",
       "    }\n",
       "\n",
       "    .dataframe tbody tr th {\n",
       "        vertical-align: top;\n",
       "    }\n",
       "\n",
       "    .dataframe thead th {\n",
       "        text-align: right;\n",
       "    }\n",
       "</style>\n",
       "<table border=\"1\" class=\"dataframe\">\n",
       "  <thead>\n",
       "    <tr style=\"text-align: right;\">\n",
       "      <th></th>\n",
       "      <th>Unnamed: 0</th>\n",
       "      <th>order_id</th>\n",
       "      <th>user_id</th>\n",
       "      <th>order_number</th>\n",
       "      <th>orders_day_of_week</th>\n",
       "      <th>order_hour_of_day</th>\n",
       "      <th>days_since_last_order</th>\n",
       "    </tr>\n",
       "  </thead>\n",
       "  <tbody>\n",
       "  </tbody>\n",
       "</table>\n",
       "</div>"
      ],
      "text/plain": [
       "Empty DataFrame\n",
       "Columns: [Unnamed: 0, order_id, user_id, order_number, orders_day_of_week, order_hour_of_day, days_since_last_order]\n",
       "Index: []"
      ]
     },
     "execution_count": 36,
     "metadata": {},
     "output_type": "execute_result"
    }
   ],
   "source": [
    "# Looking at duplicates\n",
    "\n",
    "df_dups"
   ]
  },
  {
   "cell_type": "markdown",
   "id": "45ef497e",
   "metadata": {},
   "source": [
    "8. There are no duplicate values that have been found. "
   ]
  },
  {
   "cell_type": "code",
   "execution_count": 39,
   "id": "41af8ea5",
   "metadata": {},
   "outputs": [],
   "source": [
    "# 9. Export to Prepared Data"
   ]
  },
  {
   "cell_type": "code",
   "execution_count": 40,
   "id": "75cad972",
   "metadata": {},
   "outputs": [],
   "source": [
    "df_ords.to_csv(os.path.join(path, '02 Data','Prepared Data', 'orders_checked.csv'))"
   ]
  },
  {
   "cell_type": "code",
   "execution_count": null,
   "id": "e1ad4b1b",
   "metadata": {},
   "outputs": [],
   "source": []
  }
 ],
 "metadata": {
  "kernelspec": {
   "display_name": "Python 3 (ipykernel)",
   "language": "python",
   "name": "python3"
  },
  "language_info": {
   "codemirror_mode": {
    "name": "ipython",
    "version": 3
   },
   "file_extension": ".py",
   "mimetype": "text/x-python",
   "name": "python",
   "nbconvert_exporter": "python",
   "pygments_lexer": "ipython3",
   "version": "3.11.5"
  }
 },
 "nbformat": 4,
 "nbformat_minor": 5
}
