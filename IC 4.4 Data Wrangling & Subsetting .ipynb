{
 "cells": [
  {
   "cell_type": "markdown",
   "id": "cbc75c65",
   "metadata": {},
   "source": [
    "# Data Wrangling & Subsetting"
   ]
  },
  {
   "cell_type": "markdown",
   "id": "22538cbd",
   "metadata": {},
   "source": [
    "1. Import Libraries and Data"
   ]
  },
  {
   "cell_type": "markdown",
   "id": "57391d0a",
   "metadata": {},
   "source": [
    "2. Data Wrangling"
   ]
  },
  {
   "cell_type": "markdown",
   "id": "6c6a1a2b",
   "metadata": {},
   "source": [
    "3. Import Departments Data Set"
   ]
  },
  {
   "cell_type": "markdown",
   "id": "5827e435",
   "metadata": {},
   "source": [
    "4. Create Data Dictionary"
   ]
  },
  {
   "cell_type": "markdown",
   "id": "1862a723",
   "metadata": {},
   "source": [
    "5. Task Exercises"
   ]
  },
  {
   "cell_type": "markdown",
   "id": "1771fed4",
   "metadata": {},
   "source": [
    "6. Export Data"
   ]
  },
  {
   "cell_type": "code",
   "execution_count": null,
   "id": "c05ce781",
   "metadata": {},
   "outputs": [],
   "source": [
    "# Importing Libraries\n",
    "import pandas as pd\n",
    "import numpy as np\n",
    "import os"
   ]
  },
  {
   "cell_type": "code",
   "execution_count": null,
   "id": "de1be05a",
   "metadata": {},
   "outputs": [],
   "source": [
    "# Importing Data \n",
    "df_ords = pd.read_csv(r'C:\\Users\\rpa21\\Instacart Basket Analysis\\02 Data\\Original Data\\orders.csv', index_col = False)"
   ]
  },
  {
   "cell_type": "code",
   "execution_count": null,
   "id": "e7db1c25",
   "metadata": {},
   "outputs": [],
   "source": [
    "# Creating a Path\n",
    "path = r'C:\\Users\\rpa21\\Instacart Basket Analysis'"
   ]
  },
  {
   "cell_type": "code",
   "execution_count": null,
   "id": "a628fea6",
   "metadata": {},
   "outputs": [],
   "source": [
    "path"
   ]
  },
  {
   "cell_type": "code",
   "execution_count": null,
   "id": "d84e6f70",
   "metadata": {},
   "outputs": [],
   "source": [
    "# Importing Data from orders.csv using path\n",
    "\n",
    "df_ords= pd.read_csv(os.path.join(path, '02 Data', 'Original Data', 'orders.csv'), index_col = False)"
   ]
  },
  {
   "cell_type": "code",
   "execution_count": null,
   "id": "7c8dd9ea",
   "metadata": {},
   "outputs": [],
   "source": [
    "# Import the products.csv file\n",
    "df_prods = pd.read_csv(r'C:\\Users\\rpa21\\Instacart Basket Analysis\\02 Data\\Original Data\\products.csv', index_col = False)"
   ]
  },
  {
   "cell_type": "code",
   "execution_count": null,
   "id": "54e1ec26",
   "metadata": {},
   "outputs": [],
   "source": [
    "# Creating path\n",
    "df_prods = pd.read_csv(os.path.join(path, '02 Data', 'Original Data', 'products.csv'), index_col = False)"
   ]
  },
  {
   "cell_type": "markdown",
   "id": "5e8be66d",
   "metadata": {},
   "source": [
    "02.  Data Wrangling"
   ]
  },
  {
   "cell_type": "code",
   "execution_count": null,
   "id": "3b54b0b6",
   "metadata": {},
   "outputs": [],
   "source": [
    "#Deleting the eval_set column\n",
    "df_ords = df_ords.drop(columns = ['eval_set'])"
   ]
  },
  {
   "cell_type": "code",
   "execution_count": null,
   "id": "0acee867",
   "metadata": {},
   "outputs": [],
   "source": [
    "# Checking for missing values\n",
    "df_ords['days_since_prior_order'].value_counts(dropna = False)"
   ]
  },
  {
   "cell_type": "code",
   "execution_count": null,
   "id": "dfa9cfce",
   "metadata": {},
   "outputs": [],
   "source": [
    "#Renaming Columns\n",
    "df_ords.rename(columns = {'order_dow' : 'orders_day_of_week'}, inplace = True)"
   ]
  },
  {
   "cell_type": "code",
   "execution_count": null,
   "id": "6d8db157",
   "metadata": {},
   "outputs": [],
   "source": [
    "#Showing first 5 rows to check name\n",
    "df_ords.head()"
   ]
  },
  {
   "cell_type": "code",
   "execution_count": null,
   "id": "d8788fb8",
   "metadata": {},
   "outputs": [],
   "source": [
    "#changing data type therefore describe() will ignore \n",
    "df_ords['order_id'] = df_ords['order_id'].astype('str')"
   ]
  },
  {
   "cell_type": "code",
   "execution_count": null,
   "id": "1476e4ef",
   "metadata": {},
   "outputs": [],
   "source": [
    "# Checking data type\n",
    "df_ords['order_id'].dtype"
   ]
  },
  {
   "cell_type": "markdown",
   "id": "1beebf5c",
   "metadata": {},
   "source": [
    "Importing Departments Data Set"
   ]
  },
  {
   "cell_type": "code",
   "execution_count": null,
   "id": "1b9b3f3a",
   "metadata": {},
   "outputs": [],
   "source": [
    "df_dep = pd.read_csv(r'C:\\Users\\rpa21\\Instacart Basket Analysis\\02 Data\\Original Data\\departments.csv', index_col = False)"
   ]
  },
  {
   "cell_type": "code",
   "execution_count": null,
   "id": "7e350b11",
   "metadata": {},
   "outputs": [],
   "source": [
    "df_dep = pd.read_csv(os.path.join(path, '02 Data', 'Original Data', 'departments.csv'), index_col = False)"
   ]
  },
  {
   "cell_type": "code",
   "execution_count": null,
   "id": "0eb16ffd",
   "metadata": {},
   "outputs": [],
   "source": [
    "df_dep.head()"
   ]
  },
  {
   "cell_type": "code",
   "execution_count": null,
   "id": "f6697077",
   "metadata": {},
   "outputs": [],
   "source": [
    "#Transposing Data\n",
    "df_dep.T"
   ]
  },
  {
   "cell_type": "code",
   "execution_count": null,
   "id": "39a9770c",
   "metadata": {},
   "outputs": [],
   "source": [
    "#creating a new dataframe\n",
    "df_dep_t = df_dep.T"
   ]
  },
  {
   "cell_type": "code",
   "execution_count": null,
   "id": "20a516f7",
   "metadata": {},
   "outputs": [],
   "source": [
    "df_dep_t"
   ]
  },
  {
   "cell_type": "code",
   "execution_count": null,
   "id": "58d5d40a",
   "metadata": {},
   "outputs": [],
   "source": [
    "#add index\n",
    "df_dep_t.reset_index()"
   ]
  },
  {
   "cell_type": "code",
   "execution_count": null,
   "id": "330ac7c6",
   "metadata": {},
   "outputs": [],
   "source": [
    "# Create new header\n",
    "new_header = df_dep_t.iloc[0]"
   ]
  },
  {
   "cell_type": "code",
   "execution_count": null,
   "id": "1b96c933",
   "metadata": {},
   "outputs": [],
   "source": [
    "new_header"
   ]
  },
  {
   "cell_type": "code",
   "execution_count": null,
   "id": "c8fd6c27",
   "metadata": {},
   "outputs": [],
   "source": [
    "# new dataframe that only copies over rows beyond the first row\n",
    "df_dep_t_new = df_dep_t[1:]"
   ]
  },
  {
   "cell_type": "code",
   "execution_count": null,
   "id": "ad96547c",
   "metadata": {},
   "outputs": [],
   "source": [
    "df_dep_t_new"
   ]
  },
  {
   "cell_type": "code",
   "execution_count": null,
   "id": "d60683f7",
   "metadata": {},
   "outputs": [],
   "source": [
    "#Set new header\n",
    "df_dep_t_new.columns = new_header"
   ]
  },
  {
   "cell_type": "code",
   "execution_count": null,
   "id": "b8877012",
   "metadata": {},
   "outputs": [],
   "source": [
    "df_dep_t_new"
   ]
  },
  {
   "cell_type": "markdown",
   "id": "ad24c0ec",
   "metadata": {},
   "source": [
    "Data Dictionary"
   ]
  },
  {
   "cell_type": "code",
   "execution_count": null,
   "id": "9e598053",
   "metadata": {},
   "outputs": [],
   "source": [
    "# Turn dataframe into a dictionary\n",
    "data_dict = df_dep_t_new.to_dict('index')"
   ]
  },
  {
   "cell_type": "code",
   "execution_count": null,
   "id": "083a7871",
   "metadata": {},
   "outputs": [],
   "source": [
    "# Look at the new data dictioanry\n",
    "data_dict"
   ]
  },
  {
   "cell_type": "code",
   "execution_count": null,
   "id": "5ec79fbf",
   "metadata": {},
   "outputs": [],
   "source": [
    "df_prods.head()"
   ]
  },
  {
   "cell_type": "code",
   "execution_count": null,
   "id": "0388b6e6",
   "metadata": {},
   "outputs": [],
   "source": [
    "#Determine what '19' stands for\n",
    "print(data_dict.get('19'))"
   ]
  },
  {
   "cell_type": "code",
   "execution_count": null,
   "id": "4ab35e27",
   "metadata": {},
   "outputs": [],
   "source": [
    "#Subsetting"
   ]
  },
  {
   "cell_type": "code",
   "execution_count": null,
   "id": "e0cfb332",
   "metadata": {},
   "outputs": [],
   "source": [
    "df_snacks =  df_prods[df_prods['department_id']==19]"
   ]
  },
  {
   "cell_type": "code",
   "execution_count": null,
   "id": "425d62c1",
   "metadata": {},
   "outputs": [],
   "source": [
    "df_prods['department_id']==19"
   ]
  },
  {
   "cell_type": "code",
   "execution_count": null,
   "id": "e18ccf5a",
   "metadata": {},
   "outputs": [],
   "source": [
    "df_prods[df_prods['department_id']==19]"
   ]
  },
  {
   "cell_type": "code",
   "execution_count": null,
   "id": "0bd9f97d",
   "metadata": {},
   "outputs": [],
   "source": [
    "df_snacks =  df_prods[df_prods['department_id']==19]"
   ]
  },
  {
   "cell_type": "code",
   "execution_count": null,
   "id": "660cc997",
   "metadata": {},
   "outputs": [],
   "source": [
    "df_snacks.head()"
   ]
  },
  {
   "cell_type": "markdown",
   "id": "a35a151a",
   "metadata": {},
   "source": [
    "Task Exercises"
   ]
  },
  {
   "cell_type": "code",
   "execution_count": null,
   "id": "94cdb6fe",
   "metadata": {},
   "outputs": [],
   "source": [
    "# Question 2.\n",
    "df_ords.dtypes"
   ]
  },
  {
   "cell_type": "code",
   "execution_count": null,
   "id": "41f90749",
   "metadata": {},
   "outputs": [],
   "source": [
    "# Changing data type \n",
    "df_ords['user_id'] = df_ords['user_id'].astype('str')"
   ]
  },
  {
   "cell_type": "code",
   "execution_count": null,
   "id": "32e5669d",
   "metadata": {},
   "outputs": [],
   "source": [
    "# Checking data type\n",
    "df_ords['order_id'].dtype"
   ]
  },
  {
   "cell_type": "code",
   "execution_count": null,
   "id": "de7513e5",
   "metadata": {},
   "outputs": [],
   "source": [
    "# Question 3.\n",
    "df_ords.info()"
   ]
  },
  {
   "cell_type": "code",
   "execution_count": null,
   "id": "65b3f843",
   "metadata": {},
   "outputs": [],
   "source": [
    "#Renaming Columns\n",
    "df_ords.rename(columns = {'days_since_prior_order' : 'days_since_last_order'}, inplace = True)"
   ]
  },
  {
   "cell_type": "code",
   "execution_count": null,
   "id": "38f09b76",
   "metadata": {},
   "outputs": [],
   "source": [
    "#Checking name change\n",
    "df_ords.head()"
   ]
  },
  {
   "cell_type": "code",
   "execution_count": null,
   "id": "7647de7b",
   "metadata": {},
   "outputs": [],
   "source": [
    "# Quesion 4. \n",
    "#Your client wants to know what the busiest hour is for placing orders. Find the frequency of the corresponding variable."
   ]
  },
  {
   "cell_type": "code",
   "execution_count": null,
   "id": "c13809f7",
   "metadata": {},
   "outputs": [],
   "source": [
    "df_ords['order_hour_of_day'].value_counts()"
   ]
  },
  {
   "cell_type": "markdown",
   "id": "a44e919b",
   "metadata": {},
   "source": [
    "The busiest hour for placing orders is 10:00 A.M."
   ]
  },
  {
   "cell_type": "code",
   "execution_count": null,
   "id": "26c6253d",
   "metadata": {},
   "outputs": [],
   "source": [
    "# Question 5.  \n",
    "#Determine the meaning behind a value of 4 in the \"department_id\" column within the df_prods dataframe using a data dictionary."
   ]
  },
  {
   "cell_type": "code",
   "execution_count": null,
   "id": "d17e6532",
   "metadata": {},
   "outputs": [],
   "source": [
    "data_dict"
   ]
  },
  {
   "cell_type": "code",
   "execution_count": null,
   "id": "15e96507",
   "metadata": {},
   "outputs": [],
   "source": [
    "print(data_dict.get ('4'))"
   ]
  },
  {
   "cell_type": "code",
   "execution_count": null,
   "id": "dfd3cc88",
   "metadata": {},
   "outputs": [],
   "source": [
    "# Question 6.\n",
    "#The sales team in your client’s organization wants to know more about breakfast item sales. \n",
    "#Create a subset containing only the required information."
   ]
  },
  {
   "cell_type": "code",
   "execution_count": null,
   "id": "79a49acd",
   "metadata": {},
   "outputs": [],
   "source": [
    "df_breakfast =  df_prods[df_prods['department_id']==14]"
   ]
  },
  {
   "cell_type": "code",
   "execution_count": null,
   "id": "4f5912c3",
   "metadata": {},
   "outputs": [],
   "source": [
    "df_breakfast.head()"
   ]
  },
  {
   "cell_type": "code",
   "execution_count": null,
   "id": "22ea2c16",
   "metadata": {},
   "outputs": [],
   "source": [
    "# Question 7.\n",
    "# Dinner parties. Find all observations from the entire dataframe that include items from the following departments: \n",
    "#alcohol, deli, beverages, and meat/seafood."
   ]
  },
  {
   "cell_type": "code",
   "execution_count": null,
   "id": "78067c19",
   "metadata": {},
   "outputs": [],
   "source": [
    "df_dinner_party = df_prods.loc[df_prods['department_id'].isin([5,7,12,20])]"
   ]
  },
  {
   "cell_type": "code",
   "execution_count": null,
   "id": "d0c5887a",
   "metadata": {},
   "outputs": [],
   "source": [
    "df_dinner_party.head()"
   ]
  },
  {
   "cell_type": "code",
   "execution_count": null,
   "id": "d187e59a",
   "metadata": {},
   "outputs": [],
   "source": [
    "# Question 8\n",
    "How many rows does the last dataframe you created have?"
   ]
  },
  {
   "cell_type": "code",
   "execution_count": null,
   "id": "553c2a6c",
   "metadata": {},
   "outputs": [],
   "source": [
    "df_dinner_party.shape"
   ]
  },
  {
   "cell_type": "markdown",
   "id": "ac99e836",
   "metadata": {},
   "source": [
    "The dinner party dataframe has 7650 rows."
   ]
  },
  {
   "cell_type": "code",
   "execution_count": null,
   "id": "c374a041",
   "metadata": {},
   "outputs": [],
   "source": [
    "# Question 9.\n",
    "# Someone from the data engineers team in Instacart thinks they’ve spotted something strange \n",
    "#about the customer with a \"user_id\" of “1.” \n",
    "#Extract all the information you can about this user."
   ]
  },
  {
   "cell_type": "code",
   "execution_count": null,
   "id": "ac7eb9e8",
   "metadata": {},
   "outputs": [],
   "source": [
    "df_customer_id_1 = df_ords[df_ords['user_id'] =='1']"
   ]
  },
  {
   "cell_type": "code",
   "execution_count": null,
   "id": "0ef78116",
   "metadata": {},
   "outputs": [],
   "source": [
    "df_customer_id_1.head(15)"
   ]
  },
  {
   "cell_type": "code",
   "execution_count": null,
   "id": "5a24ae9c",
   "metadata": {},
   "outputs": [],
   "source": [
    "# Question 10.\n",
    "#You also need to provide some details about this user’s behavior. \n",
    "#What basic stats can you provide based on the information you have?"
   ]
  },
  {
   "cell_type": "code",
   "execution_count": null,
   "id": "1e671755",
   "metadata": {},
   "outputs": [],
   "source": [
    "df_customer_id_1.describe()"
   ]
  },
  {
   "cell_type": "code",
   "execution_count": null,
   "id": "32b666ef",
   "metadata": {},
   "outputs": [],
   "source": [
    "# Question 11.\n",
    "# Check the organization and structure of your notebook. Be sure to include section headings and code comments."
   ]
  },
  {
   "cell_type": "code",
   "execution_count": null,
   "id": "0e39f19f",
   "metadata": {},
   "outputs": [],
   "source": [
    "# Question 12.\n",
    "# Export your df_ords dataframe as “orders_wrangled.csv” in your “Prepared Data” folder."
   ]
  },
  {
   "cell_type": "code",
   "execution_count": null,
   "id": "6e2a8592",
   "metadata": {},
   "outputs": [],
   "source": [
    "df_ords.to_csv(os.path.join(path, '02 Data', 'Prepared Data', 'orders_wrangled.csv'))"
   ]
  },
  {
   "cell_type": "code",
   "execution_count": null,
   "id": "831a0d2e",
   "metadata": {},
   "outputs": [],
   "source": [
    "# Question 13.\n",
    "# Export the df_dep_t_new dataframe as “departments_wrangled.csv” in your “Prepared Data” folder \n",
    "# so that you have a “.csv” file of your departments data in the correct format."
   ]
  },
  {
   "cell_type": "code",
   "execution_count": null,
   "id": "31cd015c",
   "metadata": {},
   "outputs": [],
   "source": [
    "df_dep_t_new.to_csv(os.path.join(path, '02 Data', 'Prepared Data', 'departments_wrangled.csv'))"
   ]
  },
  {
   "cell_type": "code",
   "execution_count": null,
   "id": "010106e9",
   "metadata": {},
   "outputs": [],
   "source": []
  }
 ],
 "metadata": {
  "kernelspec": {
   "display_name": "Python 3 (ipykernel)",
   "language": "python",
   "name": "python3"
  },
  "language_info": {
   "codemirror_mode": {
    "name": "ipython",
    "version": 3
   },
   "file_extension": ".py",
   "mimetype": "text/x-python",
   "name": "python",
   "nbconvert_exporter": "python",
   "pygments_lexer": "ipython3",
   "version": "3.11.5"
  }
 },
 "nbformat": 4,
 "nbformat_minor": 5
}
