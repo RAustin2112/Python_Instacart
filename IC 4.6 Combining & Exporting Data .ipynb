{
 "cells": [
  {
   "cell_type": "markdown",
   "id": "33d3edff",
   "metadata": {},
   "source": [
    "# Combining and Exporting Data"
   ]
  },
  {
   "cell_type": "markdown",
   "id": "709f111b",
   "metadata": {},
   "source": [
    "1. Import Libraries"
   ]
  },
  {
   "cell_type": "markdown",
   "id": "ec337826",
   "metadata": {},
   "source": [
    "2. Import Data"
   ]
  },
  {
   "cell_type": "markdown",
   "id": "5f7a0ea2",
   "metadata": {},
   "source": [
    "3. Check Dataframes"
   ]
  },
  {
   "cell_type": "markdown",
   "id": "ca0c9ad3",
   "metadata": {},
   "source": [
    "4. Drop Unnecessary Columns"
   ]
  },
  {
   "cell_type": "markdown",
   "id": "8684f938",
   "metadata": {},
   "source": [
    "5. Merge Dataframes"
   ]
  },
  {
   "cell_type": "markdown",
   "id": "cb980302",
   "metadata": {},
   "source": [
    "6. Check Dataframe"
   ]
  },
  {
   "cell_type": "markdown",
   "id": "886c11ca",
   "metadata": {},
   "source": [
    "7. Export File"
   ]
  },
  {
   "cell_type": "code",
   "execution_count": null,
   "id": "2f21f2a8",
   "metadata": {},
   "outputs": [],
   "source": [
    "# Import Libraries \n",
    "import pandas as pd\n",
    "import numpy as np\n",
    "import os"
   ]
  },
  {
   "cell_type": "code",
   "execution_count": 13,
   "id": "88002429",
   "metadata": {},
   "outputs": [],
   "source": [
    "#Import Data\n",
    "path = r'C:\\Users\\rpa21\\Instacart Basket Analysis'"
   ]
  },
  {
   "cell_type": "code",
   "execution_count": 14,
   "id": "84f6811b",
   "metadata": {},
   "outputs": [],
   "source": [
    "df_prods = pd.read_csv(os.path.join(path, '02 Data', 'Prepared Data', 'products_checked.csv'), index_col = False)"
   ]
  },
  {
   "cell_type": "code",
   "execution_count": 15,
   "id": "ffca75c2",
   "metadata": {},
   "outputs": [],
   "source": [
    "df_ords_products_combined = pd.read_pickle(os.path.join(path, '02 Data', 'Prepared Data', 'orders_products_combined.pkl'))"
   ]
  },
  {
   "cell_type": "code",
   "execution_count": 29,
   "id": "2edf0bd0",
   "metadata": {},
   "outputs": [],
   "source": [
    "# Check Dataframes"
   ]
  },
  {
   "cell_type": "code",
   "execution_count": null,
   "id": "fb8122a7",
   "metadata": {},
   "outputs": [],
   "source": [
    "df_ords_products_combined.head()"
   ]
  },
  {
   "cell_type": "code",
   "execution_count": 17,
   "id": "084e35f4",
   "metadata": {},
   "outputs": [
    {
     "data": {
      "text/plain": [
       "(32434489, 12)"
      ]
     },
     "execution_count": 17,
     "metadata": {},
     "output_type": "execute_result"
    }
   ],
   "source": [
    "df_ords_products_combined.shape"
   ]
  },
  {
   "cell_type": "code",
   "execution_count": null,
   "id": "8b6355e7",
   "metadata": {},
   "outputs": [],
   "source": [
    "df_prods.head()"
   ]
  },
  {
   "cell_type": "code",
   "execution_count": 19,
   "id": "03b1ef2d",
   "metadata": {},
   "outputs": [
    {
     "data": {
      "text/plain": [
       "(49672, 6)"
      ]
     },
     "execution_count": 19,
     "metadata": {},
     "output_type": "execute_result"
    }
   ],
   "source": [
    "df_prods.shape"
   ]
  },
  {
   "cell_type": "code",
   "execution_count": 30,
   "id": "a35f9b5b",
   "metadata": {},
   "outputs": [],
   "source": [
    "# Drop Unnecessary Columns"
   ]
  },
  {
   "cell_type": "code",
   "execution_count": 20,
   "id": "beb92c0f",
   "metadata": {},
   "outputs": [],
   "source": [
    "df_prods = df_prods.drop(columns = ['Unnamed: 0'])"
   ]
  },
  {
   "cell_type": "code",
   "execution_count": 21,
   "id": "6c5663fb",
   "metadata": {},
   "outputs": [],
   "source": [
    "df_ords_products_combined = df_ords_products_combined.drop(columns = ['Unnamed: 0.1', 'Unnamed: 0', '_merge'])"
   ]
  },
  {
   "cell_type": "markdown",
   "id": "2a1d0bf3",
   "metadata": {},
   "source": [
    "Merge Dataframes"
   ]
  },
  {
   "cell_type": "code",
   "execution_count": 22,
   "id": "52562a13",
   "metadata": {},
   "outputs": [],
   "source": [
    "df_merged = df_prods.merge(df_ords_products_combined, on = 'product_id', indicator = True)"
   ]
  },
  {
   "cell_type": "code",
   "execution_count": 31,
   "id": "5d35fd2a",
   "metadata": {},
   "outputs": [],
   "source": [
    "# Check data"
   ]
  },
  {
   "cell_type": "code",
   "execution_count": 23,
   "id": "427e17dc",
   "metadata": {},
   "outputs": [
    {
     "data": {
      "text/plain": [
       "(32404859, 14)"
      ]
     },
     "execution_count": 23,
     "metadata": {},
     "output_type": "execute_result"
    }
   ],
   "source": [
    "df_merged.shape"
   ]
  },
  {
   "cell_type": "code",
   "execution_count": null,
   "id": "d3f2df26",
   "metadata": {},
   "outputs": [],
   "source": [
    "df_merged.head()"
   ]
  },
  {
   "cell_type": "code",
   "execution_count": 26,
   "id": "b4e21019",
   "metadata": {},
   "outputs": [
    {
     "data": {
      "text/plain": [
       "_merge\n",
       "both          32404859\n",
       "left_only            0\n",
       "right_only           0\n",
       "Name: count, dtype: int64"
      ]
     },
     "execution_count": 26,
     "metadata": {},
     "output_type": "execute_result"
    }
   ],
   "source": [
    "# Merge flag\n",
    "df_merged['_merge'].value_counts()"
   ]
  },
  {
   "cell_type": "code",
   "execution_count": 27,
   "id": "fb8385d4",
   "metadata": {},
   "outputs": [],
   "source": [
    "# Export as pkl file\n",
    "df_merged.to_pickle(os.path.join(path, '02 Data', 'Prepared Data', 'ords_prods_merge.pkl'))"
   ]
  }
 ],
 "metadata": {
  "kernelspec": {
   "display_name": "Python 3 (ipykernel)",
   "language": "python",
   "name": "python3"
  },
  "language_info": {
   "codemirror_mode": {
    "name": "ipython",
    "version": 3
   },
   "file_extension": ".py",
   "mimetype": "text/x-python",
   "name": "python",
   "nbconvert_exporter": "python",
   "pygments_lexer": "ipython3",
   "version": "3.11.5"
  }
 },
 "nbformat": 4,
 "nbformat_minor": 5
}
