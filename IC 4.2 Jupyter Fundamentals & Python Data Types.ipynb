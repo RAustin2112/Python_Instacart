{
 "cells": [
  {
   "cell_type": "markdown",
   "id": "c178d199",
   "metadata": {},
   "source": [
    "# Jupyter Fundamentals & Python Data Types"
   ]
  },
  {
   "cell_type": "markdown",
   "id": "c4e25099",
   "metadata": {},
   "source": [
    "1. Import Libraries"
   ]
  },
  {
   "cell_type": "markdown",
   "id": "7cbe1e05",
   "metadata": {},
   "source": [
    "2. Explore Data Types"
   ]
  },
  {
   "cell_type": "code",
   "execution_count": 1,
   "id": "1bf577e8",
   "metadata": {},
   "outputs": [],
   "source": [
    "# Import libraries\n",
    "import pandas as pd\n",
    "import numpy as np\n",
    "import os"
   ]
  },
  {
   "cell_type": "markdown",
   "id": "9cbcffa1",
   "metadata": {},
   "source": [
    "# 02 Data Types"
   ]
  },
  {
   "cell_type": "code",
   "execution_count": 2,
   "id": "027bdf21",
   "metadata": {},
   "outputs": [],
   "source": [
    "x = 20"
   ]
  },
  {
   "cell_type": "code",
   "execution_count": 3,
   "id": "82d5e0f0",
   "metadata": {},
   "outputs": [],
   "source": [
    "y = x + 60"
   ]
  },
  {
   "cell_type": "code",
   "execution_count": 4,
   "id": "c4e52b08",
   "metadata": {},
   "outputs": [
    {
     "data": {
      "text/plain": [
       "100"
      ]
     },
     "execution_count": 4,
     "metadata": {},
     "output_type": "execute_result"
    }
   ],
   "source": [
    "x + y "
   ]
  },
  {
   "cell_type": "code",
   "execution_count": 5,
   "id": "b38f7568",
   "metadata": {},
   "outputs": [],
   "source": [
    "x = 100"
   ]
  },
  {
   "cell_type": "code",
   "execution_count": 6,
   "id": "9159173c",
   "metadata": {},
   "outputs": [
    {
     "name": "stdout",
     "output_type": "stream",
     "text": [
      "100\n"
     ]
    }
   ],
   "source": [
    "print (x)"
   ]
  },
  {
   "cell_type": "code",
   "execution_count": 7,
   "id": "d0e0d2a9",
   "metadata": {},
   "outputs": [],
   "source": [
    "z = 200"
   ]
  },
  {
   "cell_type": "code",
   "execution_count": 8,
   "id": "3b80046d",
   "metadata": {},
   "outputs": [
    {
     "data": {
      "text/plain": [
       "100"
      ]
     },
     "execution_count": 8,
     "metadata": {},
     "output_type": "execute_result"
    }
   ],
   "source": [
    "z - x"
   ]
  },
  {
   "cell_type": "code",
   "execution_count": 9,
   "id": "023aeea8",
   "metadata": {},
   "outputs": [],
   "source": [
    "c = 50.85"
   ]
  },
  {
   "cell_type": "code",
   "execution_count": 10,
   "id": "2745ae9c",
   "metadata": {},
   "outputs": [],
   "source": [
    "d = 190.765"
   ]
  },
  {
   "cell_type": "code",
   "execution_count": 11,
   "id": "30394f5a",
   "metadata": {},
   "outputs": [
    {
     "data": {
      "text/plain": [
       "0.26655833093072634"
      ]
     },
     "execution_count": 11,
     "metadata": {},
     "output_type": "execute_result"
    }
   ],
   "source": [
    "c/d"
   ]
  },
  {
   "cell_type": "code",
   "execution_count": 12,
   "id": "80e90944",
   "metadata": {},
   "outputs": [
    {
     "data": {
      "text/plain": [
       "3.751524090462143"
      ]
     },
     "execution_count": 12,
     "metadata": {},
     "output_type": "execute_result"
    }
   ],
   "source": [
    "d/c"
   ]
  },
  {
   "cell_type": "code",
   "execution_count": 13,
   "id": "06f6b0ef",
   "metadata": {},
   "outputs": [],
   "source": [
    "e = 'net'"
   ]
  },
  {
   "cell_type": "code",
   "execution_count": 14,
   "id": "99c7cf99",
   "metadata": {},
   "outputs": [],
   "source": [
    "f = 'work'"
   ]
  },
  {
   "cell_type": "code",
   "execution_count": 15,
   "id": "3f863ea2",
   "metadata": {},
   "outputs": [
    {
     "data": {
      "text/plain": [
       "'network'"
      ]
     },
     "execution_count": 15,
     "metadata": {},
     "output_type": "execute_result"
    }
   ],
   "source": [
    "e + f"
   ]
  },
  {
   "cell_type": "code",
   "execution_count": 16,
   "id": "6cdfc604",
   "metadata": {},
   "outputs": [],
   "source": [
    "g = 'Good Afternoon, '"
   ]
  },
  {
   "cell_type": "code",
   "execution_count": 17,
   "id": "b99f86fc",
   "metadata": {},
   "outputs": [],
   "source": [
    "h = 'Mariam.  '"
   ]
  },
  {
   "cell_type": "code",
   "execution_count": 18,
   "id": "6b7a805c",
   "metadata": {},
   "outputs": [],
   "source": [
    "j =  'Have a '"
   ]
  },
  {
   "cell_type": "code",
   "execution_count": 19,
   "id": "f3067be4",
   "metadata": {},
   "outputs": [],
   "source": [
    "k =  'nice day!'"
   ]
  },
  {
   "cell_type": "code",
   "execution_count": 20,
   "id": "cb76e5f5",
   "metadata": {},
   "outputs": [
    {
     "data": {
      "text/plain": [
       "'Good Afternoon, Mariam.  Have a nice day!'"
      ]
     },
     "execution_count": 20,
     "metadata": {},
     "output_type": "execute_result"
    }
   ],
   "source": [
    "g + h + j + k"
   ]
  },
  {
   "cell_type": "code",
   "execution_count": 21,
   "id": "9a3087fd",
   "metadata": {},
   "outputs": [],
   "source": [
    "l = 'Jupyter'"
   ]
  },
  {
   "cell_type": "code",
   "execution_count": 22,
   "id": "76f46bc1",
   "metadata": {},
   "outputs": [
    {
     "data": {
      "text/plain": [
       "'JupyterJupyterJupyterJupyterJupyterJupyterJupyterJupyterJupyterJupyterJupyterJupyterJupyterJupyterJupyterJupyterJupyterJupyterJupyterJupyterJupyterJupyterJupyterJupyterJupyterJupyterJupyterJupyterJupyterJupyterJupyterJupyterJupyterJupyterJupyterJupyterJupyterJupyterJupyterJupyterJupyterJupyterJupyterJupyterJupyterJupyterJupyterJupyterJupyterJupyterJupyterJupyterJupyterJupyterJupyterJupyterJupyterJupyterJupyterJupyterJupyterJupyterJupyterJupyterJupyterJupyterJupyterJupyterJupyterJupyterJupyterJupyterJupyterJupyterJupyterJupyterJupyterJupyterJupyterJupyterJupyterJupyterJupyterJupyterJupyterJupyterJupyterJupyterJupyterJupyterJupyterJupyterJupyterJupyterJupyterJupyterJupyterJupyterJupyterJupyter'"
      ]
     },
     "execution_count": 22,
     "metadata": {},
     "output_type": "execute_result"
    }
   ],
   "source": [
    "# Bonus Question\n",
    "l * 100"
   ]
  },
  {
   "cell_type": "code",
   "execution_count": null,
   "id": "e5dfb6fe",
   "metadata": {},
   "outputs": [],
   "source": []
  }
 ],
 "metadata": {
  "kernelspec": {
   "display_name": "Python 3 (ipykernel)",
   "language": "python",
   "name": "python3"
  },
  "language_info": {
   "codemirror_mode": {
    "name": "ipython",
    "version": 3
   },
   "file_extension": ".py",
   "mimetype": "text/x-python",
   "name": "python",
   "nbconvert_exporter": "python",
   "pygments_lexer": "ipython3",
   "version": "3.11.5"
  }
 },
 "nbformat": 4,
 "nbformat_minor": 5
}
