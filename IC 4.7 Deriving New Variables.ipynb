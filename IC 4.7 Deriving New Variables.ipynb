{
 "cells": [
  {
   "cell_type": "markdown",
   "id": "7f13820d",
   "metadata": {},
   "source": [
    "# 4.7 Deriving New Variables"
   ]
  },
  {
   "cell_type": "markdown",
   "id": "cdb34d07",
   "metadata": {},
   "source": [
    "1. Importing Libraies and Data"
   ]
  },
  {
   "cell_type": "markdown",
   "id": "fe60dccc",
   "metadata": {},
   "source": [
    "2. Creating Price_Label and Busiest_Day columns"
   ]
  },
  {
   "cell_type": "markdown",
   "id": "d21b36cc",
   "metadata": {},
   "source": [
    "3. Creating Busiest_Days and Slowest_Days columns"
   ]
  },
  {
   "cell_type": "markdown",
   "id": "7f6d7a40",
   "metadata": {},
   "source": [
    "4. Creating Busiest_Period_of_Day column"
   ]
  },
  {
   "cell_type": "markdown",
   "id": "01719585",
   "metadata": {},
   "source": [
    "5. Export dataframe to Prepared Folder file"
   ]
  },
  {
   "cell_type": "code",
   "execution_count": 1,
   "id": "ebc96cf5",
   "metadata": {},
   "outputs": [],
   "source": [
    "# Import Libraries\n",
    "import pandas as pd\n",
    "import numpy as np \n",
    "import os"
   ]
  },
  {
   "cell_type": "markdown",
   "id": "257767f8",
   "metadata": {},
   "source": [
    "2. Import Data"
   ]
  },
  {
   "cell_type": "code",
   "execution_count": 2,
   "id": "82ffe2aa",
   "metadata": {},
   "outputs": [],
   "source": [
    "path = r'C:\\Users\\rpa21\\Instacart Basket Analysis'"
   ]
  },
  {
   "cell_type": "code",
   "execution_count": 45,
   "id": "924d934b",
   "metadata": {},
   "outputs": [],
   "source": [
    "df_ords_prods_merge = pd.read_pickle(os.path.join(path, '02 Data', 'Prepared Data', 'ords_prods_merge.pkl'))"
   ]
  },
  {
   "cell_type": "markdown",
   "id": "e74b4e53",
   "metadata": {},
   "source": [
    "Create price_label column"
   ]
  },
  {
   "cell_type": "code",
   "execution_count": 46,
   "id": "11308733",
   "metadata": {},
   "outputs": [],
   "source": [
    "# Create a subset\n",
    "df = df_ords_prods_merge[:1000000]"
   ]
  },
  {
   "cell_type": "code",
   "execution_count": 47,
   "id": "d4240db4",
   "metadata": {},
   "outputs": [
    {
     "data": {
      "text/plain": [
       "(1000000, 14)"
      ]
     },
     "execution_count": 47,
     "metadata": {},
     "output_type": "execute_result"
    }
   ],
   "source": [
    "df.shape"
   ]
  },
  {
   "cell_type": "code",
   "execution_count": 20,
   "id": "dfbf4340",
   "metadata": {},
   "outputs": [],
   "source": [
    "# Define a function\n",
    "\n",
    "def price_label(row):\n",
    "\n",
    "  if row['prices'] <= 5:\n",
    "    return 'Low-range product'\n",
    "  elif (row['prices'] > 5) and (row['prices'] <= 15):\n",
    "    return 'Mid-range product'\n",
    "  elif row['prices'] > 15:\n",
    "    return 'High range'\n",
    "  else: return np.nan"
   ]
  },
  {
   "cell_type": "code",
   "execution_count": 24,
   "id": "fd1dcf9e",
   "metadata": {},
   "outputs": [
    {
     "name": "stderr",
     "output_type": "stream",
     "text": [
      "C:\\Users\\rpa21\\AppData\\Local\\Temp\\ipykernel_11976\\93659844.py:3: SettingWithCopyWarning: \n",
      "A value is trying to be set on a copy of a slice from a DataFrame.\n",
      "Try using .loc[row_indexer,col_indexer] = value instead\n",
      "\n",
      "See the caveats in the documentation: https://pandas.pydata.org/pandas-docs/stable/user_guide/indexing.html#returning-a-view-versus-a-copy\n",
      "  df['price_range'] = df.apply(price_label, axis=1)\n"
     ]
    }
   ],
   "source": [
    "# Apply the function\n",
    "\n",
    "df['price_range'] = df.apply(price_label, axis=1)"
   ]
  },
  {
   "cell_type": "code",
   "execution_count": 25,
   "id": "42c5053c",
   "metadata": {},
   "outputs": [
    {
     "data": {
      "text/plain": [
       "price_range\n",
       "Mid-range product    652638\n",
       "Low-range product    338018\n",
       "High range             9344\n",
       "Name: count, dtype: int64"
      ]
     },
     "execution_count": 25,
     "metadata": {},
     "output_type": "execute_result"
    }
   ],
   "source": [
    "df['price_range'].value_counts(dropna = False)"
   ]
  },
  {
   "cell_type": "code",
   "execution_count": 27,
   "id": "fc0c34d9",
   "metadata": {},
   "outputs": [
    {
     "data": {
      "text/plain": [
       "24.5"
      ]
     },
     "execution_count": 27,
     "metadata": {},
     "output_type": "execute_result"
    }
   ],
   "source": [
    "# Check most expensive product\n",
    "df['prices'].max()"
   ]
  },
  {
   "cell_type": "code",
   "execution_count": 85,
   "id": "54e8cd7b",
   "metadata": {},
   "outputs": [],
   "source": [
    "# Price label function conditions usign the loc() function"
   ]
  },
  {
   "cell_type": "code",
   "execution_count": 39,
   "id": "422bd160",
   "metadata": {},
   "outputs": [],
   "source": [
    "df.loc[(df['prices'] > 15), 'price_range_loc'] = 'High range product'"
   ]
  },
  {
   "cell_type": "code",
   "execution_count": 37,
   "id": "2a8f5765",
   "metadata": {},
   "outputs": [],
   "source": [
    "df.loc[(df['prices'] <= 15) & (df['prices'] > 5), 'price_range_loc'] = 'Mid range product' "
   ]
  },
  {
   "cell_type": "code",
   "execution_count": 38,
   "id": "db3a1136",
   "metadata": {},
   "outputs": [],
   "source": [
    "df.loc[df['prices'] <= 5, 'price_range_loc'] = 'Low range product'"
   ]
  },
  {
   "cell_type": "code",
   "execution_count": 40,
   "id": "37c9653d",
   "metadata": {},
   "outputs": [
    {
     "data": {
      "text/plain": [
       "price_range_loc\n",
       "Mid range product     652638\n",
       "Low range product     338018\n",
       "High range product      9344\n",
       "Name: count, dtype: int64"
      ]
     },
     "execution_count": 40,
     "metadata": {},
     "output_type": "execute_result"
    }
   ],
   "source": [
    "df['price_range_loc'].value_counts(dropna = False)"
   ]
  },
  {
   "cell_type": "code",
   "execution_count": 41,
   "id": "c5eecdb8",
   "metadata": {},
   "outputs": [
    {
     "data": {
      "text/plain": [
       "(1000000, 15)"
      ]
     },
     "execution_count": 41,
     "metadata": {},
     "output_type": "execute_result"
    }
   ],
   "source": [
    "df.shape\n"
   ]
  },
  {
   "cell_type": "code",
   "execution_count": 48,
   "id": "fafa59bf",
   "metadata": {},
   "outputs": [],
   "source": [
    "df_ords_prods_merge.loc[df_ords_prods_merge['prices'] > 15, 'price_range_loc'] = 'High-range product'"
   ]
  },
  {
   "cell_type": "code",
   "execution_count": 50,
   "id": "576207bd",
   "metadata": {},
   "outputs": [],
   "source": [
    "df_ords_prods_merge.loc[(df_ords_prods_merge['prices'] <= 15) & (df_ords_prods_merge['prices'] > 5),  'price_range_loc'] = 'Mid-range product'"
   ]
  },
  {
   "cell_type": "raw",
   "id": "471e18d1",
   "metadata": {},
   "source": [
    "df_ords_prods_merge.loc[df_ords_prods_merge['prices'] <= 5, 'price_range_loc'] = 'Low-range product'"
   ]
  },
  {
   "cell_type": "code",
   "execution_count": 52,
   "id": "ecd0a5cd",
   "metadata": {},
   "outputs": [
    {
     "data": {
      "text/plain": [
       "price_range_loc\n",
       "Mid-range product     21860860\n",
       "Low-range product     10126321\n",
       "High-range product      417678\n",
       "Name: count, dtype: int64"
      ]
     },
     "execution_count": 52,
     "metadata": {},
     "output_type": "execute_result"
    }
   ],
   "source": [
    "df_ords_prods_merge['price_range_loc'].value_counts(dropna = False)"
   ]
  },
  {
   "cell_type": "code",
   "execution_count": null,
   "id": "c13d90f8",
   "metadata": {},
   "outputs": [],
   "source": [
    "#Checking the orders by day of week \n",
    "df_ords_prods_merge['orders_day_of_week'].value_counts(dropna = False)"
   ]
  },
  {
   "cell_type": "code",
   "execution_count": 61,
   "id": "065719ff",
   "metadata": {},
   "outputs": [],
   "source": [
    "result = []\n",
    "\n",
    "for value in df_ords_prods_merge[\"orders_day_of_week\"]:\n",
    "  if value == 0:\n",
    "    result.append(\"Busiest day\")\n",
    "  elif value == 4:\n",
    "    result.append(\"Least busy\")\n",
    "  else:\n",
    "    result.append(\"Regularly busy\")"
   ]
  },
  {
   "cell_type": "code",
   "execution_count": null,
   "id": "237d8d12",
   "metadata": {},
   "outputs": [],
   "source": [
    "result"
   ]
  },
  {
   "cell_type": "code",
   "execution_count": 71,
   "id": "4ee3b35a",
   "metadata": {},
   "outputs": [],
   "source": [
    "df_ords_prods_merge['Busiest_day'] = result"
   ]
  },
  {
   "cell_type": "code",
   "execution_count": 72,
   "id": "3e32345a",
   "metadata": {},
   "outputs": [
    {
     "data": {
      "text/plain": [
       "Busiest_day\n",
       "Regularly busy    22416875\n",
       "Busiest day        6204182\n",
       "Least busy         3783802\n",
       "Name: count, dtype: int64"
      ]
     },
     "execution_count": 72,
     "metadata": {},
     "output_type": "execute_result"
    }
   ],
   "source": [
    "df_ords_prods_merge['Busiest_day'].value_counts(dropna = False)"
   ]
  },
  {
   "cell_type": "markdown",
   "id": "3f9601bb",
   "metadata": {},
   "source": [
    "Task Exercises"
   ]
  },
  {
   "cell_type": "markdown",
   "id": "e64eaec5",
   "metadata": {},
   "source": [
    " 3. Busiest Days and Slowest Days Column"
   ]
  },
  {
   "cell_type": "code",
   "execution_count": 73,
   "id": "484680fa",
   "metadata": {},
   "outputs": [],
   "source": [
    "#Create a column for the two busiest days and two slowest days of the week. \n",
    "\n",
    "result_2 = []\n",
    "\n",
    "for value in df_ords_prods_merge[\"orders_day_of_week\"]:\n",
    "  if value == 0 or value == 1:\n",
    "    result_2.append(\"busiest days\")\n",
    "  elif value == 4 or value == 3:\n",
    "    result_2.append(\"slowest days\")\n",
    "  else:\n",
    "    result_2.append(\"regularly busy\")"
   ]
  },
  {
   "cell_type": "code",
   "execution_count": null,
   "id": "3d2b5e2d",
   "metadata": {},
   "outputs": [],
   "source": [
    "result_2"
   ]
  },
  {
   "cell_type": "code",
   "execution_count": 76,
   "id": "1ad85a66",
   "metadata": {},
   "outputs": [],
   "source": [
    "df_ords_prods_merge['busiest days'] = result_2"
   ]
  },
  {
   "cell_type": "code",
   "execution_count": 77,
   "id": "d58f9249",
   "metadata": {},
   "outputs": [
    {
     "data": {
      "text/plain": [
       "busiest days\n",
       "regularly busy    12916111\n",
       "busiest days      11864412\n",
       "slowest days       7624336\n",
       "Name: count, dtype: int64"
      ]
     },
     "execution_count": 77,
     "metadata": {},
     "output_type": "execute_result"
    }
   ],
   "source": [
    "df_ords_prods_merge['busiest days'].value_counts(dropna = False)"
   ]
  },
  {
   "cell_type": "markdown",
   "id": "4cf70d3d",
   "metadata": {},
   "source": [
    "3. Check the values of the column for accuracy."
   ]
  },
  {
   "cell_type": "code",
   "execution_count": null,
   "id": "1a2d55c7",
   "metadata": {},
   "outputs": [],
   "source": [
    "df_ords_prods_merge.head()"
   ]
  },
  {
   "cell_type": "markdown",
   "id": "f61cc14d",
   "metadata": {},
   "source": [
    "The new columns are present and the two busiest days 11,864,412 = the two busiest days of the week, '0' Saturday = 6,204,182 and '1' Sunday = 5,660,230."
   ]
  },
  {
   "cell_type": "markdown",
   "id": "b818345f",
   "metadata": {},
   "source": [
    "4. Create a new column with labels \"Most orders\", \"Average orders\", \"Fewest orders\" called \"busiest period of day\"."
   ]
  },
  {
   "cell_type": "code",
   "execution_count": null,
   "id": "45f3be9f",
   "metadata": {},
   "outputs": [],
   "source": [
    "# Check order_hour_of_day value counts\n",
    "\n",
    "df_ords_prods_merge['order_hour_of_day'].value_counts(dropna = False)"
   ]
  },
  {
   "cell_type": "code",
   "execution_count": 80,
   "id": "297b2022",
   "metadata": {},
   "outputs": [],
   "source": [
    "# Create the labels.\n",
    "\n",
    "result_3 = []\n",
    "\n",
    "for value in df_ords_prods_merge[\"order_hour_of_day\"]:\n",
    "  if value in [9, 10, 11, 12, 13, 14, 15, 16]:\n",
    "    result_3.append(\"Most_orders\")\n",
    "  elif value in [0, 1, 2, 3, 4, 5, 6, 23]:\n",
    "    result_3.append(\"Fewest_orders\")\n",
    "  else:\n",
    "    result_3.append(\"Average_orders\")"
   ]
  },
  {
   "cell_type": "code",
   "execution_count": null,
   "id": "92e95bdb",
   "metadata": {},
   "outputs": [],
   "source": [
    "result_3"
   ]
  },
  {
   "cell_type": "code",
   "execution_count": 82,
   "id": "d9585dea",
   "metadata": {},
   "outputs": [],
   "source": [
    "# Create a new column \"busiest_period_of_day\".\n",
    "\n",
    "df_ords_prods_merge[\"busiest_period_of_day\"] = result_3"
   ]
  },
  {
   "cell_type": "code",
   "execution_count": 83,
   "id": "f1953932",
   "metadata": {},
   "outputs": [
    {
     "data": {
      "text/plain": [
       "busiest_period_of_day\n",
       "Most_orders       21118071\n",
       "Average_orders     9997651\n",
       "Fewest_orders      1289137\n",
       "Name: count, dtype: int64"
      ]
     },
     "execution_count": 83,
     "metadata": {},
     "output_type": "execute_result"
    }
   ],
   "source": [
    "# Check the column.\n",
    "df_ords_prods_merge[\"busiest_period_of_day\"].value_counts(dropna = False)"
   ]
  },
  {
   "cell_type": "code",
   "execution_count": null,
   "id": "ded5824a",
   "metadata": {},
   "outputs": [],
   "source": [
    "# Check the new column.\n",
    "df_ords_prods_merge.head()"
   ]
  },
  {
   "cell_type": "code",
   "execution_count": 89,
   "id": "7273410b",
   "metadata": {},
   "outputs": [],
   "source": [
    "# Export as pkl file\n",
    "df_ords_prods_merge.to_pickle(os.path.join(path, '02 Data', 'Prepared Data', 'ords_prods_merge_new.pkl'))"
   ]
  },
  {
   "cell_type": "code",
   "execution_count": null,
   "id": "d8b418d4",
   "metadata": {},
   "outputs": [],
   "source": []
  }
 ],
 "metadata": {
  "kernelspec": {
   "display_name": "Python 3 (ipykernel)",
   "language": "python",
   "name": "python3"
  },
  "language_info": {
   "codemirror_mode": {
    "name": "ipython",
    "version": 3
   },
   "file_extension": ".py",
   "mimetype": "text/x-python",
   "name": "python",
   "nbconvert_exporter": "python",
   "pygments_lexer": "ipython3",
   "version": "3.11.5"
  }
 },
 "nbformat": 4,
 "nbformat_minor": 5
}
