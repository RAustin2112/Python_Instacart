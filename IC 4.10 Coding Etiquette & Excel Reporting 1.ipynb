{
 "cells": [
  {
   "cell_type": "markdown",
   "id": "777bb0d5",
   "metadata": {},
   "source": [
    "# Coding Etiquette & Excel Reporting 1"
   ]
  },
  {
   "cell_type": "markdown",
   "id": "cfe752a2",
   "metadata": {},
   "source": [
    "1. Import Libraries and Data"
   ]
  },
  {
   "cell_type": "markdown",
   "id": "af6c1150",
   "metadata": {},
   "source": [
    "2. Personally Identifiable Information PII"
   ]
  },
  {
   "cell_type": "markdown",
   "id": "14dc941e",
   "metadata": {},
   "source": [
    "3. Regional Segmentation"
   ]
  },
  {
   "cell_type": "markdown",
   "id": "5bd5f419",
   "metadata": {},
   "source": [
    "4. Low Activity Customers"
   ]
  },
  {
   "cell_type": "markdown",
   "id": "231a1fb6",
   "metadata": {},
   "source": [
    "5. Save Dataframe to pickle"
   ]
  },
  {
   "cell_type": "markdown",
   "id": "ea4c5782",
   "metadata": {},
   "source": [
    "6.  Create Crosstab"
   ]
  },
  {
   "cell_type": "code",
   "execution_count": 1,
   "id": "04ed0abd",
   "metadata": {},
   "outputs": [],
   "source": [
    "# Import Libraries\n",
    "import pandas as pd\n",
    "import numpy as np\n",
    "import os\n",
    "import matplotlib.pyplot as plt\n",
    "import seaborn as sns\n",
    "import scipy"
   ]
  },
  {
   "cell_type": "code",
   "execution_count": 2,
   "id": "540e8fe4",
   "metadata": {},
   "outputs": [],
   "source": [
    "path = r'C:\\Users\\rpa21\\Instacart Basket Analysis'"
   ]
  },
  {
   "cell_type": "code",
   "execution_count": 3,
   "id": "8a97bac1",
   "metadata": {},
   "outputs": [],
   "source": [
    "df_cust_grp_merge = pd.read_pickle(os.path.join(path, '02 Data', 'Prepared Data', 'df_cust_grp_merge.pkl'))"
   ]
  },
  {
   "cell_type": "code",
   "execution_count": 4,
   "id": "4a1b1310",
   "metadata": {},
   "outputs": [
    {
     "data": {
      "text/plain": [
       "(32404859, 34)"
      ]
     },
     "execution_count": 4,
     "metadata": {},
     "output_type": "execute_result"
    }
   ],
   "source": [
    "df_cust_grp_merge.shape"
   ]
  },
  {
   "cell_type": "markdown",
   "id": "16853475",
   "metadata": {},
   "source": [
    "# 2. Personally Identifiable Information"
   ]
  },
  {
   "cell_type": "code",
   "execution_count": 5,
   "id": "07980605",
   "metadata": {},
   "outputs": [],
   "source": [
    "df_cust_grp_merge = df_cust_grp_merge.drop(columns = ['First Name', 'Last Name'])"
   ]
  },
  {
   "cell_type": "code",
   "execution_count": null,
   "id": "50e734c3",
   "metadata": {},
   "outputs": [],
   "source": [
    "df_cust_grp_merge.info()"
   ]
  },
  {
   "cell_type": "markdown",
   "id": "a0df929f",
   "metadata": {},
   "source": [
    "The dataframe contains many PII elements. The First Name and the Last Name of each customer, \n",
    "has been removed from the dataframe, as this is particularly sensitive data."
   ]
  },
  {
   "cell_type": "markdown",
   "id": "93efb542",
   "metadata": {},
   "source": [
    "# 3. Regional Segmentation"
   ]
  },
  {
   "cell_type": "markdown",
   "id": "2b325173",
   "metadata": {},
   "source": [
    "Defining the Regions"
   ]
  },
  {
   "cell_type": "code",
   "execution_count": 7,
   "id": "e9f2c3f3",
   "metadata": {},
   "outputs": [],
   "source": [
    "# Defining northeast states\n",
    "northeast_states = ['Maine', 'New Hampshire', 'Vermont', 'Massachusetts', 'Rhode Island', 'Connecticut', 'New York', \n",
    "                    'Pennsylvania', 'New Jersey']"
   ]
  },
  {
   "cell_type": "code",
   "execution_count": 8,
   "id": "93841f99",
   "metadata": {},
   "outputs": [],
   "source": [
    "# Defining midwest states\n",
    "midwest_states = ['Wisconsin', 'Michigan', 'Illinois', 'Indiana', 'Ohio', 'North Dakota', 'South Dakota', 'Nebraska',\n",
    "                  'Kansas', 'Minnesota', 'Iowa', 'Missouri']"
   ]
  },
  {
   "cell_type": "code",
   "execution_count": 9,
   "id": "4e944ac8",
   "metadata": {},
   "outputs": [],
   "source": [
    "# Defining south states\n",
    "south_states = ['Delaware','Maryland','District of Columbia','Virginia','West Virginia','North Carolina','South Carolina', \n",
    "                'Georgia','Florida', 'Kentucky', 'Tennessee', 'Mississippi', 'Alabama',  'Oklahoma', 'Texas', \n",
    "                'Arkansas', 'Louisiana']"
   ]
  },
  {
   "cell_type": "code",
   "execution_count": 10,
   "id": "8cc58ff6",
   "metadata": {},
   "outputs": [],
   "source": [
    "# Defining west states\n",
    "west_states = ['Idaho', 'Montana', 'Wyoming', 'Nevada', 'Utah', 'Colorado', 'Arizona', 'New Mexico', 'Alaska',\n",
    "'Washington', 'Oregon', 'California', 'Hawaii']"
   ]
  },
  {
   "cell_type": "code",
   "execution_count": 11,
   "id": "d57c476d",
   "metadata": {},
   "outputs": [],
   "source": [
    "df_cust_grp_merge.loc[df_cust_grp_merge['State'].isin(northeast_states), 'region'] = 'Northeast'"
   ]
  },
  {
   "cell_type": "code",
   "execution_count": 12,
   "id": "fdc2e8f1",
   "metadata": {},
   "outputs": [],
   "source": [
    "df_cust_grp_merge.loc[df_cust_grp_merge['State'].isin(midwest_states), 'region'] = 'Midwest'"
   ]
  },
  {
   "cell_type": "code",
   "execution_count": 13,
   "id": "9af64e5b",
   "metadata": {},
   "outputs": [],
   "source": [
    "df_cust_grp_merge.loc[df_cust_grp_merge['State'].isin(south_states), 'region'] = 'South'"
   ]
  },
  {
   "cell_type": "code",
   "execution_count": 14,
   "id": "7c71924b",
   "metadata": {},
   "outputs": [],
   "source": [
    "df_cust_grp_merge.loc[df_cust_grp_merge['State'].isin(west_states), 'region'] = 'West'"
   ]
  },
  {
   "cell_type": "code",
   "execution_count": 15,
   "id": "0f93a688",
   "metadata": {},
   "outputs": [
    {
     "data": {
      "text/plain": [
       "region\n",
       "South        10791885\n",
       "West          8292913\n",
       "Midwest       7597325\n",
       "Northeast     5722736\n",
       "Name: count, dtype: int64"
      ]
     },
     "execution_count": 15,
     "metadata": {},
     "output_type": "execute_result"
    }
   ],
   "source": [
    "df_cust_grp_merge['region'].value_counts(dropna = False)"
   ]
  },
  {
   "cell_type": "code",
   "execution_count": 16,
   "id": "1e815cf9",
   "metadata": {},
   "outputs": [],
   "source": [
    "region_spending = pd.crosstab(df_cust_grp_merge['region'],df_cust_grp_merge['spender_flag'], dropna = False).sort_values(by = 'High spender', ascending = False)"
   ]
  },
  {
   "cell_type": "code",
   "execution_count": 17,
   "id": "56ed48d5",
   "metadata": {},
   "outputs": [
    {
     "data": {
      "text/html": [
       "<div>\n",
       "<style scoped>\n",
       "    .dataframe tbody tr th:only-of-type {\n",
       "        vertical-align: middle;\n",
       "    }\n",
       "\n",
       "    .dataframe tbody tr th {\n",
       "        vertical-align: top;\n",
       "    }\n",
       "\n",
       "    .dataframe thead th {\n",
       "        text-align: right;\n",
       "    }\n",
       "</style>\n",
       "<table border=\"1\" class=\"dataframe\">\n",
       "  <thead>\n",
       "    <tr style=\"text-align: right;\">\n",
       "      <th>spender_flag</th>\n",
       "      <th>High spender</th>\n",
       "      <th>Low spender</th>\n",
       "    </tr>\n",
       "    <tr>\n",
       "      <th>region</th>\n",
       "      <th></th>\n",
       "      <th></th>\n",
       "    </tr>\n",
       "  </thead>\n",
       "  <tbody>\n",
       "    <tr>\n",
       "      <th>South</th>\n",
       "      <td>10781873</td>\n",
       "      <td>10012</td>\n",
       "    </tr>\n",
       "    <tr>\n",
       "      <th>West</th>\n",
       "      <td>8284433</td>\n",
       "      <td>8480</td>\n",
       "    </tr>\n",
       "    <tr>\n",
       "      <th>Midwest</th>\n",
       "      <td>7589534</td>\n",
       "      <td>7791</td>\n",
       "    </tr>\n",
       "    <tr>\n",
       "      <th>Northeast</th>\n",
       "      <td>5717129</td>\n",
       "      <td>5607</td>\n",
       "    </tr>\n",
       "  </tbody>\n",
       "</table>\n",
       "</div>"
      ],
      "text/plain": [
       "spender_flag  High spender  Low spender\n",
       "region                                 \n",
       "South             10781873        10012\n",
       "West               8284433         8480\n",
       "Midwest            7589534         7791\n",
       "Northeast          5717129         5607"
      ]
     },
     "execution_count": 17,
     "metadata": {},
     "output_type": "execute_result"
    }
   ],
   "source": [
    "# Spending by region\n",
    "region_spending"
   ]
  },
  {
   "cell_type": "markdown",
   "id": "cefce651",
   "metadata": {},
   "source": [
    "Bar Chart of spending by region"
   ]
  },
  {
   "cell_type": "code",
   "execution_count": 18,
   "id": "f6983191",
   "metadata": {},
   "outputs": [],
   "source": [
    "region_spending.to_clipboard()"
   ]
  },
  {
   "cell_type": "code",
   "execution_count": 19,
   "id": "c7257777",
   "metadata": {},
   "outputs": [],
   "source": [
    "region_prices = pd.crosstab(df_cust_grp_merge['region'],df_cust_grp_merge['price_range_loc'], dropna = False).sort_values(by = 'High-range product', ascending = False)"
   ]
  },
  {
   "cell_type": "code",
   "execution_count": 20,
   "id": "8de01e45",
   "metadata": {
    "scrolled": true
   },
   "outputs": [
    {
     "data": {
      "text/html": [
       "<div>\n",
       "<style scoped>\n",
       "    .dataframe tbody tr th:only-of-type {\n",
       "        vertical-align: middle;\n",
       "    }\n",
       "\n",
       "    .dataframe tbody tr th {\n",
       "        vertical-align: top;\n",
       "    }\n",
       "\n",
       "    .dataframe thead th {\n",
       "        text-align: right;\n",
       "    }\n",
       "</style>\n",
       "<table border=\"1\" class=\"dataframe\">\n",
       "  <thead>\n",
       "    <tr style=\"text-align: right;\">\n",
       "      <th>price_range_loc</th>\n",
       "      <th>High-range product</th>\n",
       "      <th>Low-range product</th>\n",
       "      <th>Mid-range product</th>\n",
       "    </tr>\n",
       "    <tr>\n",
       "      <th>region</th>\n",
       "      <th></th>\n",
       "      <th></th>\n",
       "      <th></th>\n",
       "    </tr>\n",
       "  </thead>\n",
       "  <tbody>\n",
       "    <tr>\n",
       "      <th>South</th>\n",
       "      <td>139390</td>\n",
       "      <td>3368338</td>\n",
       "      <td>7284157</td>\n",
       "    </tr>\n",
       "    <tr>\n",
       "      <th>West</th>\n",
       "      <td>107168</td>\n",
       "      <td>2592736</td>\n",
       "      <td>5593009</td>\n",
       "    </tr>\n",
       "    <tr>\n",
       "      <th>Midwest</th>\n",
       "      <td>97918</td>\n",
       "      <td>2372304</td>\n",
       "      <td>5127103</td>\n",
       "    </tr>\n",
       "    <tr>\n",
       "      <th>Northeast</th>\n",
       "      <td>73202</td>\n",
       "      <td>1792943</td>\n",
       "      <td>3856591</td>\n",
       "    </tr>\n",
       "  </tbody>\n",
       "</table>\n",
       "</div>"
      ],
      "text/plain": [
       "price_range_loc  High-range product  Low-range product  Mid-range product\n",
       "region                                                                   \n",
       "South                        139390            3368338            7284157\n",
       "West                         107168            2592736            5593009\n",
       "Midwest                       97918            2372304            5127103\n",
       "Northeast                     73202            1792943            3856591"
      ]
     },
     "execution_count": 20,
     "metadata": {},
     "output_type": "execute_result"
    }
   ],
   "source": [
    "region_prices"
   ]
  },
  {
   "cell_type": "markdown",
   "id": "fdfcb62f",
   "metadata": {},
   "source": [
    "# 4. Low Activity Customers; Exclusion Flag"
   ]
  },
  {
   "cell_type": "markdown",
   "id": "6ade2cae",
   "metadata": {},
   "source": [
    "Create an exclusion flag for low activity customers"
   ]
  },
  {
   "cell_type": "code",
   "execution_count": 21,
   "id": "7cca9595",
   "metadata": {},
   "outputs": [],
   "source": [
    "df_cust_grp_merge.loc[df_cust_grp_merge['order_number'] < 5, 'exclusion_flag'] = 'Low activity customers'"
   ]
  },
  {
   "cell_type": "code",
   "execution_count": 22,
   "id": "a67ee07a",
   "metadata": {},
   "outputs": [],
   "source": [
    "df_cust_grp_merge.loc[df_cust_grp_merge['order_number'] >= 5, 'exclusion_flag'] = 'High activity customers'"
   ]
  },
  {
   "cell_type": "code",
   "execution_count": 23,
   "id": "31be2f48",
   "metadata": {},
   "outputs": [
    {
     "data": {
      "text/plain": [
       "exclusion_flag\n",
       "High activity customers    24414877\n",
       "Low activity customers      7989982\n",
       "Name: count, dtype: int64"
      ]
     },
     "execution_count": 23,
     "metadata": {},
     "output_type": "execute_result"
    }
   ],
   "source": [
    "df_cust_grp_merge['exclusion_flag'].value_counts(dropna = False)"
   ]
  },
  {
   "cell_type": "code",
   "execution_count": 24,
   "id": "63138a81",
   "metadata": {},
   "outputs": [],
   "source": [
    "# Drop rows with order_number less than 5 (axis=0 specifies rows)\n",
    "df_cust_grp_merge2 =df_cust_grp_merge.drop(df_cust_grp_merge[df_cust_grp_merge['order_number'] < 5].index, axis=0)"
   ]
  },
  {
   "cell_type": "code",
   "execution_count": null,
   "id": "b3c6c916",
   "metadata": {},
   "outputs": [],
   "source": [
    "df_cust_grp_merge2.head()"
   ]
  },
  {
   "cell_type": "code",
   "execution_count": 26,
   "id": "674f42ab",
   "metadata": {},
   "outputs": [
    {
     "data": {
      "text/plain": [
       "exclusion_flag\n",
       "High activity customers    24414877\n",
       "Name: count, dtype: int64"
      ]
     },
     "execution_count": 26,
     "metadata": {},
     "output_type": "execute_result"
    }
   ],
   "source": [
    "#Check exclustion flag\n",
    "df_cust_grp_merge2['exclusion_flag'].value_counts(dropna = False)"
   ]
  },
  {
   "cell_type": "markdown",
   "id": "b5ba358c",
   "metadata": {},
   "source": [
    "Save Dataframe to Prepared Data"
   ]
  },
  {
   "cell_type": "code",
   "execution_count": 27,
   "id": "4fb3d1a9",
   "metadata": {},
   "outputs": [],
   "source": [
    "df_cust_grp_merge2.to_pickle(os.path.join(path, '02 Data', 'Prepared Data', 'df_cust_grp_merge2.pkl'))"
   ]
  },
  {
   "cell_type": "markdown",
   "id": "739825b0",
   "metadata": {},
   "source": [
    "Create a crosstab of 'days since last order' and 'order number'."
   ]
  },
  {
   "cell_type": "code",
   "execution_count": 32,
   "id": "4303a1eb",
   "metadata": {},
   "outputs": [],
   "source": [
    "crosstab = pd.crosstab(df_cust_grp_merge2['days_since_last_order'], df_cust_grp_merge2['order_number'], dropna = False)"
   ]
  },
  {
   "cell_type": "code",
   "execution_count": 33,
   "id": "be0c7a58",
   "metadata": {},
   "outputs": [],
   "source": [
    "crosstab.to_clipboard()"
   ]
  },
  {
   "cell_type": "code",
   "execution_count": null,
   "id": "d4e5f2f2",
   "metadata": {},
   "outputs": [],
   "source": []
  }
 ],
 "metadata": {
  "kernelspec": {
   "display_name": "Python 3 (ipykernel)",
   "language": "python",
   "name": "python3"
  },
  "language_info": {
   "codemirror_mode": {
    "name": "ipython",
    "version": 3
   },
   "file_extension": ".py",
   "mimetype": "text/x-python",
   "name": "python",
   "nbconvert_exporter": "python",
   "pygments_lexer": "ipython3",
   "version": "3.11.5"
  }
 },
 "nbformat": 4,
 "nbformat_minor": 5
}
