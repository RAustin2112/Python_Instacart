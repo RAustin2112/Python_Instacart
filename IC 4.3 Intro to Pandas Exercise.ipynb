{
 "cells": [
  {
   "cell_type": "markdown",
   "id": "71c42446",
   "metadata": {},
   "source": [
    "# Intro to Pandas"
   ]
  },
  {
   "cell_type": "markdown",
   "id": "b427bc77",
   "metadata": {},
   "source": [
    "1. Import Libraries and Data"
   ]
  },
  {
   "cell_type": "markdown",
   "id": "87ffc99c",
   "metadata": {},
   "source": [
    "2. Data Checks"
   ]
  },
  {
   "cell_type": "code",
   "execution_count": null,
   "id": "7099ed08",
   "metadata": {},
   "outputs": [],
   "source": [
    "# Import Libraries\n",
    "import pandas as pd\n",
    "import numpy as np\n",
    "import os"
   ]
  },
  {
   "cell_type": "code",
   "execution_count": null,
   "id": "a9276456",
   "metadata": {},
   "outputs": [],
   "source": [
    "# Importing Data \n",
    "df = pd.read_csv(r'C:\\Users\\rpa21\\Instacart Basket Analysis\\02 Data\\Original Data\\orders.csv', index_col = False)"
   ]
  },
  {
   "cell_type": "code",
   "execution_count": null,
   "id": "b626eca2",
   "metadata": {},
   "outputs": [],
   "source": [
    "# Creating a Path\n",
    "path = r'C:\\Users\\rpa21\\Instacart Basket Analysis'"
   ]
  },
  {
   "cell_type": "code",
   "execution_count": null,
   "id": "f09d5abf",
   "metadata": {},
   "outputs": [],
   "source": [
    "path"
   ]
  },
  {
   "cell_type": "code",
   "execution_count": 18,
   "id": "e6a903b6",
   "metadata": {},
   "outputs": [],
   "source": [
    "# Importing Data from orders.csv using path"
   ]
  },
  {
   "cell_type": "code",
   "execution_count": null,
   "id": "1d8458c4",
   "metadata": {},
   "outputs": [],
   "source": [
    "df = pd.read_csv(os.path.join(path, '02 Data', 'Original Data', 'orders.csv'), index_col = False)"
   ]
  },
  {
   "cell_type": "code",
   "execution_count": null,
   "id": "df3f79e8",
   "metadata": {},
   "outputs": [],
   "source": [
    "vars_list = ['order_id', 'user_id', 'order_number', 'order_dow', 'order_hour_of_day', 'days_since_prior_order']"
   ]
  },
  {
   "cell_type": "code",
   "execution_count": null,
   "id": "d73f61b6",
   "metadata": {},
   "outputs": [],
   "source": [
    "df = pd.read_csv(os.path.join(path, '02 Data', 'Original Data', 'orders.csv'), usecols = vars_list)"
   ]
  },
  {
   "cell_type": "code",
   "execution_count": null,
   "id": "20e68bf5",
   "metadata": {},
   "outputs": [],
   "source": [
    "# print first 5 rows of data\n",
    "df.head()"
   ]
  },
  {
   "cell_type": "code",
   "execution_count": 22,
   "id": "0a0f3c54",
   "metadata": {},
   "outputs": [],
   "source": [
    "# Import the products.csv file\n",
    "df_prods = pd.read_csv(r'C:\\Users\\rpa21\\Instacart Basket Analysis\\02 Data\\Original Data\\products.csv', index_col = False)"
   ]
  },
  {
   "cell_type": "code",
   "execution_count": 24,
   "id": "9b1e16e5",
   "metadata": {},
   "outputs": [],
   "source": [
    "# Creating path\n",
    "df_prods = pd.read_csv(os.path.join(path, '02 Data', 'Original Data', 'products.csv'), index_col = False)"
   ]
  },
  {
   "cell_type": "code",
   "execution_count": null,
   "id": "b64f3436",
   "metadata": {},
   "outputs": [],
   "source": [
    "#Printing first 20 rows\n",
    "df_prods.head(20)"
   ]
  },
  {
   "cell_type": "code",
   "execution_count": null,
   "id": "855b8919",
   "metadata": {},
   "outputs": [],
   "source": [
    "# print last 35 rows\n",
    "df_prods.tail(35)"
   ]
  },
  {
   "cell_type": "code",
   "execution_count": null,
   "id": "fb868793",
   "metadata": {},
   "outputs": [],
   "source": [
    "# print names of the columns\n",
    "df_prods.columns"
   ]
  },
  {
   "cell_type": "code",
   "execution_count": 28,
   "id": "9623e6b2",
   "metadata": {},
   "outputs": [
    {
     "data": {
      "text/plain": [
       "(49693, 5)"
      ]
     },
     "execution_count": 28,
     "metadata": {},
     "output_type": "execute_result"
    }
   ],
   "source": [
    "# print the number of rows and columns\n",
    "df_prods.shape"
   ]
  },
  {
   "cell_type": "code",
   "execution_count": null,
   "id": "ce8426cb",
   "metadata": {},
   "outputs": [],
   "source": [
    "df_prods.describe()"
   ]
  },
  {
   "cell_type": "markdown",
   "id": "3021724d",
   "metadata": {},
   "source": [
    "The maximum value of the \"aisle_id\" column is 134."
   ]
  },
  {
   "cell_type": "code",
   "execution_count": null,
   "id": "24fba7f2",
   "metadata": {},
   "outputs": [],
   "source": [
    "df_prods.dtypes"
   ]
  },
  {
   "cell_type": "markdown",
   "id": "9964ca25",
   "metadata": {},
   "source": [
    "The data type of the department_id columns is an integer."
   ]
  }
 ],
 "metadata": {
  "kernelspec": {
   "display_name": "Python 3 (ipykernel)",
   "language": "python",
   "name": "python3"
  },
  "language_info": {
   "codemirror_mode": {
    "name": "ipython",
    "version": 3
   },
   "file_extension": ".py",
   "mimetype": "text/x-python",
   "name": "python",
   "nbconvert_exporter": "python",
   "pygments_lexer": "ipython3",
   "version": "3.11.5"
  }
 },
 "nbformat": 4,
 "nbformat_minor": 5
}
